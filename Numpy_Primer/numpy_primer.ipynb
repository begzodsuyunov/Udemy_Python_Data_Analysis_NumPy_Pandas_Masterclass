{
 "cells": [
  {
   "cell_type": "markdown",
   "id": "111f8f21-5174-4ad2-a058-f267cee6741a",
   "metadata": {},
   "source": [
    "## Numpy Arrays"
   ]
  },
  {
   "cell_type": "code",
   "execution_count": 3,
   "id": "05b955ac-2462-4619-83dd-be35fa53daea",
   "metadata": {},
   "outputs": [],
   "source": [
    "import numpy as np"
   ]
  },
  {
   "cell_type": "code",
   "execution_count": 11,
   "id": "0e8b8cbe-df55-48f6-83e1-098a1b393a72",
   "metadata": {},
   "outputs": [],
   "source": [
    "array = np.array(range(5))"
   ]
  },
  {
   "cell_type": "code",
   "execution_count": 13,
   "id": "23152493-2904-492e-9539-1fd78c778eec",
   "metadata": {},
   "outputs": [
    {
     "data": {
      "text/plain": [
       "array([0, 1, 2, 3, 4])"
      ]
     },
     "execution_count": 13,
     "metadata": {},
     "output_type": "execute_result"
    }
   ],
   "source": [
    "array"
   ]
  },
  {
   "cell_type": "code",
   "execution_count": 15,
   "id": "55e48944-c259-43dc-aede-1a687508adbc",
   "metadata": {},
   "outputs": [],
   "source": [
    "array_2d = np.array([range(5), range(5)])"
   ]
  },
  {
   "cell_type": "code",
   "execution_count": 17,
   "id": "21c43fe0-7f7b-40d6-9b2e-10afeece281f",
   "metadata": {},
   "outputs": [
    {
     "data": {
      "text/plain": [
       "array([[0, 1, 2, 3, 4],\n",
       "       [0, 1, 2, 3, 4]])"
      ]
     },
     "execution_count": 17,
     "metadata": {},
     "output_type": "execute_result"
    }
   ],
   "source": [
    "array_2d"
   ]
  },
  {
   "cell_type": "code",
   "execution_count": 19,
   "id": "e7720a57-8fcc-4484-ad7e-b9cc0d2df1c2",
   "metadata": {},
   "outputs": [
    {
     "data": {
      "text/plain": [
       "array([[1, 2, 3, 4, 5],\n",
       "       [1, 2, 3, 4, 5]])"
      ]
     },
     "execution_count": 19,
     "metadata": {},
     "output_type": "execute_result"
    }
   ],
   "source": [
    "array_2d + 1"
   ]
  },
  {
   "cell_type": "code",
   "execution_count": 21,
   "id": "9bd3ab40-80f0-463f-afe8-8213a5c5ed4e",
   "metadata": {},
   "outputs": [
    {
     "data": {
      "text/plain": [
       "(5,)"
      ]
     },
     "execution_count": 21,
     "metadata": {},
     "output_type": "execute_result"
    }
   ],
   "source": [
    "array.shape"
   ]
  },
  {
   "cell_type": "code",
   "execution_count": 23,
   "id": "b9d66847-19c0-4694-9859-57d863db26e0",
   "metadata": {},
   "outputs": [
    {
     "data": {
      "text/plain": [
       "(2, 5)"
      ]
     },
     "execution_count": 23,
     "metadata": {},
     "output_type": "execute_result"
    }
   ],
   "source": [
    "array_2d.shape"
   ]
  },
  {
   "cell_type": "code",
   "execution_count": 25,
   "id": "a7f38af5-5b66-4b43-ac08-e3bf86f152d8",
   "metadata": {},
   "outputs": [
    {
     "data": {
      "text/plain": [
       "5"
      ]
     },
     "execution_count": 25,
     "metadata": {},
     "output_type": "execute_result"
    }
   ],
   "source": [
    "array.size"
   ]
  },
  {
   "cell_type": "code",
   "execution_count": 27,
   "id": "5f427c4f-78ab-4aa0-9267-4fbf599da468",
   "metadata": {},
   "outputs": [
    {
     "data": {
      "text/plain": [
       "10"
      ]
     },
     "execution_count": 27,
     "metadata": {},
     "output_type": "execute_result"
    }
   ],
   "source": [
    "array_2d.size"
   ]
  },
  {
   "cell_type": "code",
   "execution_count": 29,
   "id": "13113834-07db-46cb-bce1-ca53de9a6f34",
   "metadata": {},
   "outputs": [
    {
     "data": {
      "text/plain": [
       "array([[0, 0],\n",
       "       [1, 1],\n",
       "       [2, 2],\n",
       "       [3, 3],\n",
       "       [4, 4]])"
      ]
     },
     "execution_count": 29,
     "metadata": {},
     "output_type": "execute_result"
    }
   ],
   "source": [
    "array_2d.T"
   ]
  },
  {
   "cell_type": "code",
   "execution_count": 31,
   "id": "aa30583e-4d0c-4b00-bd2e-bb530cb5fa1f",
   "metadata": {},
   "outputs": [
    {
     "data": {
      "text/plain": [
       "(5, 2)"
      ]
     },
     "execution_count": 31,
     "metadata": {},
     "output_type": "execute_result"
    }
   ],
   "source": [
    "array_2d.T.shape"
   ]
  },
  {
   "cell_type": "code",
   "execution_count": 33,
   "id": "5a6bd70c-05f7-415f-9a98-627e6fac2275",
   "metadata": {},
   "outputs": [
    {
     "data": {
      "text/plain": [
       "1"
      ]
     },
     "execution_count": 33,
     "metadata": {},
     "output_type": "execute_result"
    }
   ],
   "source": [
    "array.ndim"
   ]
  },
  {
   "cell_type": "code",
   "execution_count": 37,
   "id": "da4f5d62-fdaf-4e8a-afeb-6082ee00f4f5",
   "metadata": {},
   "outputs": [
    {
     "data": {
      "text/plain": [
       "2"
      ]
     },
     "execution_count": 37,
     "metadata": {},
     "output_type": "execute_result"
    }
   ],
   "source": [
    "array_2d.ndim"
   ]
  },
  {
   "cell_type": "code",
   "execution_count": 39,
   "id": "654efa63-2733-4bf9-83d1-cd79d8f821a7",
   "metadata": {},
   "outputs": [
    {
     "data": {
      "text/plain": [
       "dtype('int32')"
      ]
     },
     "execution_count": 39,
     "metadata": {},
     "output_type": "execute_result"
    }
   ],
   "source": [
    "array.dtype"
   ]
  },
  {
   "cell_type": "code",
   "execution_count": 41,
   "id": "734de18f-a93e-4665-a77d-cdff4772c4fe",
   "metadata": {},
   "outputs": [
    {
     "data": {
      "text/plain": [
       "dtype('int32')"
      ]
     },
     "execution_count": 41,
     "metadata": {},
     "output_type": "execute_result"
    }
   ],
   "source": [
    "array_2d.dtype"
   ]
  },
  {
   "cell_type": "code",
   "execution_count": 45,
   "id": "ea024093-ef5d-4294-8b5f-66db1c837a61",
   "metadata": {},
   "outputs": [
    {
     "data": {
      "text/plain": [
       "array(['I', 'love', 'Python'], dtype='<U6')"
      ]
     },
     "execution_count": 45,
     "metadata": {},
     "output_type": "execute_result"
    }
   ],
   "source": [
    "np.array(['I', 'love', 'Python'])"
   ]
  },
  {
   "cell_type": "code",
   "execution_count": null,
   "id": "7452ca70-af6f-4f9f-a16f-cbdc71ee91a6",
   "metadata": {},
   "outputs": [],
   "source": []
  },
  {
   "cell_type": "markdown",
   "id": "a9601519-4519-4e3a-9de0-7acc9aad4045",
   "metadata": {},
   "source": [
    "### Assignment 1"
   ]
  },
  {
   "cell_type": "code",
   "execution_count": 49,
   "id": "25a2adeb-3061-49cf-b7b8-20e5ed357d48",
   "metadata": {},
   "outputs": [],
   "source": [
    "import numpy as np"
   ]
  },
  {
   "cell_type": "code",
   "execution_count": 51,
   "id": "f64a5f4c-971a-4868-9835-fb219ed8a495",
   "metadata": {},
   "outputs": [],
   "source": [
    "my_list = [x * 10 for x in range(1, 11)]"
   ]
  },
  {
   "cell_type": "code",
   "execution_count": 55,
   "id": "0b45e11a-c4f1-4438-9827-e713714d56f1",
   "metadata": {},
   "outputs": [],
   "source": [
    "my_list_array = np.array(my_list)"
   ]
  },
  {
   "cell_type": "code",
   "execution_count": 57,
   "id": "0f3f7151-4305-4a10-9b24-bbae4d25e013",
   "metadata": {},
   "outputs": [
    {
     "data": {
      "text/plain": [
       "1"
      ]
     },
     "execution_count": 57,
     "metadata": {},
     "output_type": "execute_result"
    }
   ],
   "source": [
    "my_list_array.ndim"
   ]
  },
  {
   "cell_type": "code",
   "execution_count": 59,
   "id": "e41bf046-762b-455f-a0c9-0a20e54ecbfb",
   "metadata": {},
   "outputs": [
    {
     "data": {
      "text/plain": [
       "(10,)"
      ]
     },
     "execution_count": 59,
     "metadata": {},
     "output_type": "execute_result"
    }
   ],
   "source": [
    "my_list_array.shape"
   ]
  },
  {
   "cell_type": "code",
   "execution_count": 61,
   "id": "befb77fa-499c-4b15-a613-3519e29a94e8",
   "metadata": {},
   "outputs": [
    {
     "data": {
      "text/plain": [
       "10"
      ]
     },
     "execution_count": 61,
     "metadata": {},
     "output_type": "execute_result"
    }
   ],
   "source": [
    "my_list_array.size"
   ]
  },
  {
   "cell_type": "code",
   "execution_count": 63,
   "id": "cbf0d69d-2bb3-4473-a8c6-12b9076d891b",
   "metadata": {},
   "outputs": [
    {
     "data": {
      "text/plain": [
       "dtype('int32')"
      ]
     },
     "execution_count": 63,
     "metadata": {},
     "output_type": "execute_result"
    }
   ],
   "source": [
    "my_list_array.dtype"
   ]
  },
  {
   "cell_type": "code",
   "execution_count": null,
   "id": "e020e998-46b4-4a31-bb24-cef62fd153ec",
   "metadata": {},
   "outputs": [],
   "source": []
  },
  {
   "cell_type": "markdown",
   "id": "e8c9563a-3c31-4b60-99df-92a3366d0daf",
   "metadata": {},
   "source": [
    "## Array Creation"
   ]
  },
  {
   "cell_type": "code",
   "execution_count": 68,
   "id": "4024f71a-661e-4e19-8d04-7621955a03c3",
   "metadata": {},
   "outputs": [
    {
     "data": {
      "text/plain": [
       "array([1., 1., 1., 1.])"
      ]
     },
     "execution_count": 68,
     "metadata": {},
     "output_type": "execute_result"
    }
   ],
   "source": [
    "np.ones(4,)"
   ]
  },
  {
   "cell_type": "code",
   "execution_count": 70,
   "id": "4741a8e2-50df-4070-b2ed-aed8da848d13",
   "metadata": {},
   "outputs": [
    {
     "data": {
      "text/plain": [
       "array([1, 1])"
      ]
     },
     "execution_count": 70,
     "metadata": {},
     "output_type": "execute_result"
    }
   ],
   "source": [
    "np.ones(2, dtype='int')"
   ]
  },
  {
   "cell_type": "code",
   "execution_count": 72,
   "id": "2c8c15c9-0ed9-4d9c-bf07-a14ffb979ec5",
   "metadata": {},
   "outputs": [
    {
     "data": {
      "text/plain": [
       "array([[0., 0., 0., 0., 0.],\n",
       "       [0., 0., 0., 0., 0.]])"
      ]
     },
     "execution_count": 72,
     "metadata": {},
     "output_type": "execute_result"
    }
   ],
   "source": [
    "np.zeros((2, 5))"
   ]
  },
  {
   "cell_type": "code",
   "execution_count": 76,
   "id": "695c1b24-33d5-4bf4-8d77-e413f0397561",
   "metadata": {},
   "outputs": [
    {
     "data": {
      "text/plain": [
       "array([[0, 0, 0, 0, 0, 0, 0, 0, 0, 0],\n",
       "       [0, 0, 0, 0, 0, 0, 0, 0, 0, 0],\n",
       "       [0, 0, 0, 0, 0, 0, 0, 0, 0, 0],\n",
       "       [0, 0, 0, 0, 0, 0, 0, 0, 0, 0],\n",
       "       [0, 0, 0, 0, 0, 0, 0, 0, 0, 0],\n",
       "       [0, 0, 0, 0, 0, 0, 0, 0, 0, 0],\n",
       "       [0, 0, 0, 0, 0, 0, 0, 0, 0, 0],\n",
       "       [0, 0, 0, 0, 0, 0, 0, 0, 0, 0],\n",
       "       [0, 0, 0, 0, 0, 0, 0, 0, 0, 0],\n",
       "       [0, 0, 0, 0, 0, 0, 0, 0, 0, 0]])"
      ]
     },
     "execution_count": 76,
     "metadata": {},
     "output_type": "execute_result"
    }
   ],
   "source": [
    "np.zeros(100, 'int').reshape(10, 10)"
   ]
  },
  {
   "cell_type": "code",
   "execution_count": 78,
   "id": "448d4bc8-ddf9-4561-9ff2-3ab1627dfc5c",
   "metadata": {},
   "outputs": [
    {
     "data": {
      "text/plain": [
       "array([[0, 0, 0, 0, 0, 0, 0, 0, 0, 0, 0, 0, 0, 0, 0, 0, 0, 0, 0, 0],\n",
       "       [0, 0, 0, 0, 0, 0, 0, 0, 0, 0, 0, 0, 0, 0, 0, 0, 0, 0, 0, 0],\n",
       "       [0, 0, 0, 0, 0, 0, 0, 0, 0, 0, 0, 0, 0, 0, 0, 0, 0, 0, 0, 0],\n",
       "       [0, 0, 0, 0, 0, 0, 0, 0, 0, 0, 0, 0, 0, 0, 0, 0, 0, 0, 0, 0],\n",
       "       [0, 0, 0, 0, 0, 0, 0, 0, 0, 0, 0, 0, 0, 0, 0, 0, 0, 0, 0, 0]])"
      ]
     },
     "execution_count": 78,
     "metadata": {},
     "output_type": "execute_result"
    }
   ],
   "source": [
    "np.zeros(100, 'int').reshape(5, 20)"
   ]
  },
  {
   "cell_type": "code",
   "execution_count": 80,
   "id": "1e9983ba-9475-4439-a565-7079e4296757",
   "metadata": {},
   "outputs": [
    {
     "data": {
      "text/plain": [
       "array([[1., 0., 0., 0., 0., 0., 0., 0., 0., 0.],\n",
       "       [0., 1., 0., 0., 0., 0., 0., 0., 0., 0.],\n",
       "       [0., 0., 1., 0., 0., 0., 0., 0., 0., 0.],\n",
       "       [0., 0., 0., 1., 0., 0., 0., 0., 0., 0.],\n",
       "       [0., 0., 0., 0., 1., 0., 0., 0., 0., 0.],\n",
       "       [0., 0., 0., 0., 0., 1., 0., 0., 0., 0.],\n",
       "       [0., 0., 0., 0., 0., 0., 1., 0., 0., 0.],\n",
       "       [0., 0., 0., 0., 0., 0., 0., 1., 0., 0.],\n",
       "       [0., 0., 0., 0., 0., 0., 0., 0., 1., 0.],\n",
       "       [0., 0., 0., 0., 0., 0., 0., 0., 0., 1.]])"
      ]
     },
     "execution_count": 80,
     "metadata": {},
     "output_type": "execute_result"
    }
   ],
   "source": [
    "np.identity(10)"
   ]
  },
  {
   "cell_type": "code",
   "execution_count": 86,
   "id": "fe9dfc3c-e0f5-4f42-965d-69bec381d67e",
   "metadata": {},
   "outputs": [
    {
     "data": {
      "text/plain": [
       "array([[1., 0., 0., 0., 0., 0., 0., 0., 0., 0.],\n",
       "       [0., 1., 0., 0., 0., 0., 0., 0., 0., 0.],\n",
       "       [0., 0., 1., 0., 0., 0., 0., 0., 0., 0.],\n",
       "       [0., 0., 0., 1., 0., 0., 0., 0., 0., 0.],\n",
       "       [0., 0., 0., 0., 1., 0., 0., 0., 0., 0.],\n",
       "       [0., 0., 0., 0., 0., 1., 0., 0., 0., 0.],\n",
       "       [0., 0., 0., 0., 0., 0., 1., 0., 0., 0.],\n",
       "       [0., 0., 0., 0., 0., 0., 0., 1., 0., 0.],\n",
       "       [0., 0., 0., 0., 0., 0., 0., 0., 1., 0.],\n",
       "       [0., 0., 0., 0., 0., 0., 0., 0., 0., 1.]])"
      ]
     },
     "execution_count": 86,
     "metadata": {},
     "output_type": "execute_result"
    }
   ],
   "source": [
    "np.identity(10).T"
   ]
  },
  {
   "cell_type": "code",
   "execution_count": 94,
   "id": "62bef634-f9e0-4a17-9f81-b58e60031f14",
   "metadata": {},
   "outputs": [
    {
     "data": {
      "text/plain": [
       "array([[0, 0, 0, 0, 0],\n",
       "       [0, 0, 0, 0, 0],\n",
       "       [0, 0, 0, 0, 0],\n",
       "       [0, 0, 0, 0, 0],\n",
       "       [0, 0, 0, 0, 0],\n",
       "       [0, 0, 0, 0, 0],\n",
       "       [0, 0, 0, 0, 0],\n",
       "       [0, 0, 0, 0, 0],\n",
       "       [0, 0, 0, 0, 0],\n",
       "       [0, 0, 0, 0, 0],\n",
       "       [0, 0, 0, 0, 0],\n",
       "       [0, 0, 0, 0, 0],\n",
       "       [0, 0, 0, 0, 0],\n",
       "       [0, 0, 0, 0, 0],\n",
       "       [0, 0, 0, 0, 0],\n",
       "       [0, 0, 0, 0, 0],\n",
       "       [0, 0, 0, 0, 0],\n",
       "       [0, 0, 0, 0, 0],\n",
       "       [0, 0, 0, 0, 0],\n",
       "       [0, 0, 0, 0, 0]])"
      ]
     },
     "execution_count": 94,
     "metadata": {},
     "output_type": "execute_result"
    }
   ],
   "source": [
    "np.zeros((5,20), 'int').T"
   ]
  },
  {
   "cell_type": "code",
   "execution_count": 96,
   "id": "5c21d119-8c2d-418e-8ff6-205e1c5e5181",
   "metadata": {},
   "outputs": [
    {
     "data": {
      "text/plain": [
       "array([0, 1, 2, 3, 4, 5, 6, 7, 8, 9])"
      ]
     },
     "execution_count": 96,
     "metadata": {},
     "output_type": "execute_result"
    }
   ],
   "source": [
    "np.arange(10)"
   ]
  },
  {
   "cell_type": "code",
   "execution_count": 98,
   "id": "25b4ce13-c1fc-441d-a70d-49bc2081d4c2",
   "metadata": {},
   "outputs": [
    {
     "data": {
      "text/plain": [
       "array([5, 6, 7, 8, 9])"
      ]
     },
     "execution_count": 98,
     "metadata": {},
     "output_type": "execute_result"
    }
   ],
   "source": [
    "np.arange(5, 10)"
   ]
  },
  {
   "cell_type": "code",
   "execution_count": 106,
   "id": "e2442105-1963-4f5d-a1e7-578b3d67d798",
   "metadata": {},
   "outputs": [
    {
     "data": {
      "text/plain": [
       "array([[0, 1],\n",
       "       [2, 3],\n",
       "       [4, 5],\n",
       "       [6, 7],\n",
       "       [8, 9]])"
      ]
     },
     "execution_count": 106,
     "metadata": {},
     "output_type": "execute_result"
    }
   ],
   "source": [
    "np.arange(10).reshape(5, 2)"
   ]
  },
  {
   "cell_type": "code",
   "execution_count": 152,
   "id": "2579877b-99fd-468b-8359-f2d7f9019f20",
   "metadata": {},
   "outputs": [
    {
     "data": {
      "text/plain": [
       "array([  0.,  10.,  20.,  30.,  40.,  50.,  60.,  70.,  80.,  90., 100.])"
      ]
     },
     "execution_count": 152,
     "metadata": {},
     "output_type": "execute_result"
    }
   ],
   "source": [
    "#Evenly spaced intervals using linspace\n",
    "np.linspace(0, 100, 11)"
   ]
  },
  {
   "cell_type": "code",
   "execution_count": 122,
   "id": "b4dbf067-caf3-4c27-867b-2699410ed2c3",
   "metadata": {},
   "outputs": [
    {
     "data": {
      "text/plain": [
       "array([ 8., 16., 24., 32., 40., 48., 56., 64.])"
      ]
     },
     "execution_count": 122,
     "metadata": {},
     "output_type": "execute_result"
    }
   ],
   "source": [
    "np.linspace(8, 64, 8)"
   ]
  },
  {
   "cell_type": "code",
   "execution_count": 126,
   "id": "0c27d947-7870-49b0-9e91-e3b86cd50a92",
   "metadata": {},
   "outputs": [
    {
     "data": {
      "text/plain": [
       "array([ 0.,  8., 16., 24., 32., 40., 48., 56., 64.])"
      ]
     },
     "execution_count": 126,
     "metadata": {},
     "output_type": "execute_result"
    }
   ],
   "source": [
    "np.linspace(0, 64, 9)"
   ]
  },
  {
   "cell_type": "code",
   "execution_count": 148,
   "id": "b26d15bc-f07c-4216-a193-121189640b43",
   "metadata": {},
   "outputs": [
    {
     "data": {
      "text/plain": [
       "array([ 0,  6, 12, 18, 24, 30, 36, 42, 48, 54, 60, 66, 72])"
      ]
     },
     "execution_count": 148,
     "metadata": {},
     "output_type": "execute_result"
    }
   ],
   "source": [
    "np.arange(0, 73, 6)"
   ]
  },
  {
   "cell_type": "code",
   "execution_count": null,
   "id": "c2903a46-1629-494d-b44a-afc23ff10bdb",
   "metadata": {},
   "outputs": [],
   "source": []
  },
  {
   "cell_type": "markdown",
   "id": "bca61ab2-4ee4-4939-b21a-adf2e8ee585d",
   "metadata": {},
   "source": [
    "## Random Number Array"
   ]
  },
  {
   "cell_type": "code",
   "execution_count": 158,
   "id": "dbd748b6-c53b-43eb-b0d7-59049bcaa4e2",
   "metadata": {},
   "outputs": [],
   "source": [
    "import numpy as np"
   ]
  },
  {
   "cell_type": "code",
   "execution_count": 160,
   "id": "89af032c-e5e7-4223-a296-25e5dfdafab8",
   "metadata": {},
   "outputs": [],
   "source": [
    "rng = np.random.default_rng(616)"
   ]
  },
  {
   "cell_type": "code",
   "execution_count": 162,
   "id": "e70c8199-0714-4b62-8da3-c25c2561ab5e",
   "metadata": {},
   "outputs": [
    {
     "data": {
      "text/plain": [
       "array([0.39682145, 0.86568572, 0.46040359, 0.30599848, 0.57381588,\n",
       "       0.08888468, 0.88194347, 0.73228387, 0.73215182, 0.56233394])"
      ]
     },
     "execution_count": 162,
     "metadata": {},
     "output_type": "execute_result"
    }
   ],
   "source": [
    "rng.random(10)"
   ]
  },
  {
   "cell_type": "code",
   "execution_count": 164,
   "id": "44e3ccd5-9ae8-4772-80df-afd75732aa99",
   "metadata": {},
   "outputs": [
    {
     "data": {
      "text/plain": [
       "array([8, 3, 6, 0, 3, 3, 1, 2, 2, 4, 9, 1, 2, 5, 1, 8, 9, 0, 3, 1, 5, 8,\n",
       "       0, 6, 1, 7, 0, 7, 6, 0, 3, 7, 1, 9, 4, 1, 6, 1, 4, 4, 9, 5, 3, 4,\n",
       "       7, 8, 3, 3, 5, 0, 4, 9, 9, 5, 6, 5, 8, 2, 3, 0, 0, 8, 3, 8, 4, 8,\n",
       "       8, 9, 7, 3, 8, 4, 9, 2, 6, 3, 0, 3, 2, 0, 0, 4, 9, 5, 4, 1, 8, 2,\n",
       "       7, 7, 1, 2, 2, 4, 1, 6, 7, 3, 7, 5], dtype=int64)"
      ]
     },
     "execution_count": 164,
     "metadata": {},
     "output_type": "execute_result"
    }
   ],
   "source": [
    "rng.integers(0, 10, 100)"
   ]
  },
  {
   "cell_type": "code",
   "execution_count": 166,
   "id": "57221d0b-4513-4672-a645-d3aaf31f1fb3",
   "metadata": {},
   "outputs": [
    {
     "data": {
      "text/plain": [
       "array([53.53115044, 46.35468178, 46.1580894 , 52.89177118, 45.90693639,\n",
       "       44.51748741, 57.41467712, 51.82624671, 53.9032125 , 53.21454641])"
      ]
     },
     "execution_count": 166,
     "metadata": {},
     "output_type": "execute_result"
    }
   ],
   "source": [
    "rng.normal(50, 5, 10)"
   ]
  },
  {
   "cell_type": "code",
   "execution_count": null,
   "id": "106c6267-9b1e-4dc7-9d56-3882cdf227b9",
   "metadata": {},
   "outputs": [],
   "source": []
  },
  {
   "cell_type": "code",
   "execution_count": 181,
   "id": "563644bb-89e3-411b-915d-3ab41c544489",
   "metadata": {},
   "outputs": [
    {
     "data": {
      "text/plain": [
       "array([70, 23, 79, 32, 21, 80, 65, 68, 99, 40, 84, 34, 57, 60, 22, 19, 23,\n",
       "       68, 62, 95, 71, 25, 92, 95, 74, 67, 14, 10, 27, 45,  8, 89, 48, 70,\n",
       "       22, 33, 12, 74, 78, 23, 72,  9, 40, 16, 75, 35, 48, 47, 48, 27, 56,\n",
       "       82, 50, 20,  3, 13,  9, 10, 13, 60, 81, 86, 66, 61, 34, 94, 65, 73,\n",
       "       74, 87, 71, 93, 55, 55, 26, 94, 56, 50, 32, 28, 64, 46, 57, 67, 90,\n",
       "       34, 69, 91, 46, 26, 30, 34, 63, 26, 84, 36,  7,  1,  3, 63],\n",
       "      dtype=int64)"
      ]
     },
     "execution_count": 181,
     "metadata": {},
     "output_type": "execute_result"
    }
   ],
   "source": [
    "import numpy as np\n",
    "\n",
    "rng = np.random.default_rng(12345)\n",
    "\n",
    "random_ages = rng.integers(1, 101, 100)\n",
    "random_ages"
   ]
  },
  {
   "cell_type": "markdown",
   "id": "5fede2c3-fbcc-4a4c-94d1-b8d142a11a26",
   "metadata": {},
   "source": [
    "### Assignment 3"
   ]
  },
  {
   "cell_type": "code",
   "execution_count": 228,
   "id": "d1dfacd9-7aeb-4c00-9877-37977dee70c9",
   "metadata": {},
   "outputs": [
    {
     "data": {
      "text/plain": [
       "array([[ 10.,  20.],\n",
       "       [ 30.,  40.],\n",
       "       [ 50.,  60.],\n",
       "       [ 70.,  80.],\n",
       "       [ 90., 100.]])"
      ]
     },
     "execution_count": 228,
     "metadata": {},
     "output_type": "execute_result"
    }
   ],
   "source": [
    "#1st problem\n",
    "import numpy as np\n",
    "\n",
    "array = np.linspace(10, 100, 10).reshape(5,2)\n",
    "array"
   ]
  },
  {
   "cell_type": "code",
   "execution_count": 230,
   "id": "da765cd4-8d9b-4989-a2d3-9c21f9b8cf54",
   "metadata": {},
   "outputs": [
    {
     "data": {
      "text/plain": [
       "array([[ 10,  20],\n",
       "       [ 30,  40],\n",
       "       [ 50,  60],\n",
       "       [ 70,  80],\n",
       "       [ 90, 100]])"
      ]
     },
     "execution_count": 230,
     "metadata": {},
     "output_type": "execute_result"
    }
   ],
   "source": [
    "array = np.arange(10, 101, 10).reshape(5,2)\n",
    "array"
   ]
  },
  {
   "cell_type": "code",
   "execution_count": 222,
   "id": "2059171c-f5a8-4b90-b4d7-99acf66ef059",
   "metadata": {},
   "outputs": [],
   "source": [
    "#2nd problem\n",
    "from numpy.random import default_rng"
   ]
  },
  {
   "cell_type": "code",
   "execution_count": 224,
   "id": "ea9780af-8ba8-4506-8f30-edac1119277c",
   "metadata": {},
   "outputs": [],
   "source": [
    "rng = default_rng(2022)"
   ]
  },
  {
   "cell_type": "code",
   "execution_count": 226,
   "id": "74da6935-8b3f-4c39-8fef-faad9b1ddbe8",
   "metadata": {},
   "outputs": [
    {
     "data": {
      "text/plain": [
       "array([[0.24742606, 0.09299006, 0.61176337],\n",
       "       [0.06066207, 0.66103343, 0.75515778],\n",
       "       [0.1108689 , 0.04305584, 0.41441747]])"
      ]
     },
     "execution_count": 226,
     "metadata": {},
     "output_type": "execute_result"
    }
   ],
   "source": [
    "rng.random(9).reshape(3, 3)"
   ]
  },
  {
   "cell_type": "code",
   "execution_count": null,
   "id": "94e04f96-5f0f-4bff-aa06-cddffa7ad1e8",
   "metadata": {},
   "outputs": [],
   "source": []
  },
  {
   "cell_type": "markdown",
   "id": "1c016e83-d843-476b-bff5-d0930af9aca1",
   "metadata": {},
   "source": [
    "## Indexing and Slicing Arrays"
   ]
  },
  {
   "cell_type": "code",
   "execution_count": 234,
   "id": "bd8130db-11a4-4f99-97a9-3836e1dac344",
   "metadata": {},
   "outputs": [],
   "source": [
    "import numpy as np"
   ]
  },
  {
   "cell_type": "code",
   "execution_count": 236,
   "id": "9377b449-f9a2-4ad4-a37c-6d3d76e3611f",
   "metadata": {},
   "outputs": [],
   "source": [
    "integer_array = np.arange(12)"
   ]
  },
  {
   "cell_type": "code",
   "execution_count": 238,
   "id": "5b1357cc-b233-4d61-b329-1ef848ab6c01",
   "metadata": {},
   "outputs": [
    {
     "data": {
      "text/plain": [
       "array([ 0,  1,  2,  3,  4,  5,  6,  7,  8,  9, 10, 11])"
      ]
     },
     "execution_count": 238,
     "metadata": {},
     "output_type": "execute_result"
    }
   ],
   "source": [
    "integer_array"
   ]
  },
  {
   "cell_type": "code",
   "execution_count": 242,
   "id": "e5b008c2-de4e-47ce-81d3-af38b038ce9b",
   "metadata": {},
   "outputs": [
    {
     "data": {
      "text/plain": [
       "2"
      ]
     },
     "execution_count": 242,
     "metadata": {},
     "output_type": "execute_result"
    }
   ],
   "source": [
    "integer_array[2]"
   ]
  },
  {
   "cell_type": "code",
   "execution_count": 244,
   "id": "cdb87fa8-91aa-40f8-a8d2-026166eb8ee5",
   "metadata": {},
   "outputs": [
    {
     "data": {
      "text/plain": [
       "11"
      ]
     },
     "execution_count": 244,
     "metadata": {},
     "output_type": "execute_result"
    }
   ],
   "source": [
    "integer_array[11]"
   ]
  },
  {
   "cell_type": "code",
   "execution_count": 246,
   "id": "183fee66-7ec7-4f41-acd1-f960837927d5",
   "metadata": {},
   "outputs": [
    {
     "data": {
      "text/plain": [
       "11"
      ]
     },
     "execution_count": 246,
     "metadata": {},
     "output_type": "execute_result"
    }
   ],
   "source": [
    "integer_array[-1]"
   ]
  },
  {
   "cell_type": "code",
   "execution_count": 248,
   "id": "8df6e053-3fe4-4ea5-847d-41edd0066c4e",
   "metadata": {},
   "outputs": [
    {
     "data": {
      "text/plain": [
       "array([0, 1, 2, 3, 4])"
      ]
     },
     "execution_count": 248,
     "metadata": {},
     "output_type": "execute_result"
    }
   ],
   "source": [
    "integer_array[:5]"
   ]
  },
  {
   "cell_type": "code",
   "execution_count": 250,
   "id": "34922cf1-3d95-4db0-a203-a96c8fe3404e",
   "metadata": {},
   "outputs": [
    {
     "data": {
      "text/plain": [
       "array([ 5,  6,  7,  8,  9, 10, 11])"
      ]
     },
     "execution_count": 250,
     "metadata": {},
     "output_type": "execute_result"
    }
   ],
   "source": [
    "integer_array[5:]"
   ]
  },
  {
   "cell_type": "code",
   "execution_count": 252,
   "id": "4251d41c-ffb5-4ccf-8903-7e657cd2e612",
   "metadata": {},
   "outputs": [
    {
     "data": {
      "text/plain": [
       "array([ 0,  1,  2,  3,  4,  5,  6,  7,  8,  9, 10, 11])"
      ]
     },
     "execution_count": 252,
     "metadata": {},
     "output_type": "execute_result"
    }
   ],
   "source": [
    "integer_array[:]"
   ]
  },
  {
   "cell_type": "code",
   "execution_count": 254,
   "id": "0d13cf11-f1a7-439a-b91d-6a3c23bd2829",
   "metadata": {},
   "outputs": [
    {
     "data": {
      "text/plain": [
       "array([ 0,  2,  4,  6,  8, 10])"
      ]
     },
     "execution_count": 254,
     "metadata": {},
     "output_type": "execute_result"
    }
   ],
   "source": [
    "integer_array[::2]"
   ]
  },
  {
   "cell_type": "code",
   "execution_count": null,
   "id": "b5eef1da-98a7-4a03-a794-5d4b3977737d",
   "metadata": {},
   "outputs": [],
   "source": []
  },
  {
   "cell_type": "code",
   "execution_count": 257,
   "id": "a19855f7-2585-434b-972c-f07ebf215710",
   "metadata": {},
   "outputs": [
    {
     "data": {
      "text/plain": [
       "array([[ 0,  1,  2,  3],\n",
       "       [ 4,  5,  6,  7],\n",
       "       [ 8,  9, 10, 11]])"
      ]
     },
     "execution_count": 257,
     "metadata": {},
     "output_type": "execute_result"
    }
   ],
   "source": [
    "new_array = integer_array.reshape(3,4)\n",
    "\n",
    "new_array"
   ]
  },
  {
   "cell_type": "code",
   "execution_count": 271,
   "id": "332efc4d-efff-45b0-8757-4a2c8b92edad",
   "metadata": {},
   "outputs": [
    {
     "data": {
      "text/plain": [
       "array([[ 0,  1,  2,  3],\n",
       "       [ 4,  5,  6,  7],\n",
       "       [ 8,  9, 10, 11]])"
      ]
     },
     "execution_count": 271,
     "metadata": {},
     "output_type": "execute_result"
    }
   ],
   "source": [
    "new_array[:, :]\n",
    "#In slicing [], 1st argument is for ROWS, 2nd one is for COLUMNS.\n",
    "#Based on giving params, you can slice the required portion from the array"
   ]
  },
  {
   "cell_type": "code",
   "execution_count": 261,
   "id": "87da82b7-bdba-4e69-8d48-b0257e660424",
   "metadata": {},
   "outputs": [
    {
     "data": {
      "text/plain": [
       "array([[ 4,  5,  6,  7],\n",
       "       [ 8,  9, 10, 11]])"
      ]
     },
     "execution_count": 261,
     "metadata": {},
     "output_type": "execute_result"
    }
   ],
   "source": [
    "new_array[1:, :]"
   ]
  },
  {
   "cell_type": "code",
   "execution_count": 265,
   "id": "096d9e65-c0d1-41af-8038-2f5c4db9c494",
   "metadata": {},
   "outputs": [
    {
     "data": {
      "text/plain": [
       "array([[ 1,  2],\n",
       "       [ 5,  6],\n",
       "       [ 9, 10]])"
      ]
     },
     "execution_count": 265,
     "metadata": {},
     "output_type": "execute_result"
    }
   ],
   "source": [
    "new_array[:, 1:3]"
   ]
  },
  {
   "cell_type": "code",
   "execution_count": 267,
   "id": "c3277bf6-2bb7-4c83-b5e9-d38a336cf80c",
   "metadata": {},
   "outputs": [
    {
     "data": {
      "text/plain": [
       "array([[ 1,  2,  3],\n",
       "       [ 5,  6,  7],\n",
       "       [ 9, 10, 11]])"
      ]
     },
     "execution_count": 267,
     "metadata": {},
     "output_type": "execute_result"
    }
   ],
   "source": [
    "new_array[:, 1:]"
   ]
  },
  {
   "cell_type": "code",
   "execution_count": 269,
   "id": "0dcc0967-59e9-4197-be2e-48be2450a9f9",
   "metadata": {},
   "outputs": [
    {
     "data": {
      "text/plain": [
       "9"
      ]
     },
     "execution_count": 269,
     "metadata": {},
     "output_type": "execute_result"
    }
   ],
   "source": [
    "new_array[2, 1]"
   ]
  },
  {
   "cell_type": "code",
   "execution_count": null,
   "id": "1f56b91d-99f8-4cc9-a5a6-30fde29940cd",
   "metadata": {},
   "outputs": [],
   "source": []
  },
  {
   "cell_type": "markdown",
   "id": "983fdf5e-9ccc-47cf-b309-746a5699c562",
   "metadata": {},
   "source": [
    "### Demo"
   ]
  },
  {
   "cell_type": "code",
   "execution_count": 275,
   "id": "cdc431c4-e683-4b50-bc5c-059a0ac2dd16",
   "metadata": {},
   "outputs": [],
   "source": [
    "import numpy as np\n",
    "\n"
   ]
  },
  {
   "cell_type": "code",
   "execution_count": 277,
   "id": "b2975b82-225a-4860-b951-bc12b713d414",
   "metadata": {},
   "outputs": [],
   "source": [
    "ages = np.array([5, 10, 15, 19, 20, 25, 30, 35, 40, 45, 50, 55, 60, 65, 70, 75, 80])"
   ]
  },
  {
   "cell_type": "code",
   "execution_count": 281,
   "id": "b4d22101-8656-4615-82e4-4eeedc6b096e",
   "metadata": {},
   "outputs": [
    {
     "data": {
      "text/plain": [
       "array([10, 15, 19])"
      ]
     },
     "execution_count": 281,
     "metadata": {},
     "output_type": "execute_result"
    }
   ],
   "source": [
    "youth_ages = ages[1:4]\n",
    "\n",
    "youth_ages"
   ]
  },
  {
   "cell_type": "code",
   "execution_count": 299,
   "id": "5d242f27-d4de-4863-8cc2-31d24ef212e8",
   "metadata": {},
   "outputs": [
    {
     "data": {
      "text/plain": [
       "array([20, 25, 30, 35, 40, 45, 50, 55, 60, 65])"
      ]
     },
     "execution_count": 299,
     "metadata": {},
     "output_type": "execute_result"
    }
   ],
   "source": [
    "adult_ages = ages[4:-3]\n",
    "\n",
    "adult_ages"
   ]
  },
  {
   "cell_type": "code",
   "execution_count": 297,
   "id": "d8a3e57c-68af-4ccc-9675-d0022d1320cc",
   "metadata": {},
   "outputs": [
    {
     "data": {
      "text/plain": [
       "array([70, 75, 80])"
      ]
     },
     "execution_count": 297,
     "metadata": {},
     "output_type": "execute_result"
    }
   ],
   "source": [
    "senior_ages = ages[-3:]\n",
    "\n",
    "senior_ages"
   ]
  },
  {
   "cell_type": "code",
   "execution_count": null,
   "id": "0cd3e723-0cd1-4657-89b3-253374cfaf49",
   "metadata": {},
   "outputs": [],
   "source": []
  },
  {
   "cell_type": "markdown",
   "id": "98c5aef0-427f-45a9-a7c5-f205039a2a4c",
   "metadata": {},
   "source": [
    "### Assignment 4"
   ]
  },
  {
   "cell_type": "code",
   "execution_count": 305,
   "id": "7815f1a2-a436-4c0a-a0ca-654730e1d6c2",
   "metadata": {},
   "outputs": [
    {
     "data": {
      "text/plain": [
       "array([[0.24742606, 0.09299006, 0.61176337],\n",
       "       [0.06066207, 0.66103343, 0.75515778],\n",
       "       [0.1108689 , 0.04305584, 0.41441747]])"
      ]
     },
     "execution_count": 305,
     "metadata": {},
     "output_type": "execute_result"
    }
   ],
   "source": [
    "#2nd problem\n",
    "from numpy.random import default_rng\n",
    "\n",
    "rng = default_rng(2022)\n",
    "\n",
    "random_array = rng.random(9).reshape(3, 3)\n",
    "\n",
    "random_array"
   ]
  },
  {
   "cell_type": "code",
   "execution_count": 319,
   "id": "8c1e738d-8365-40ed-aa2f-99b7948d2871",
   "metadata": {},
   "outputs": [
    {
     "data": {
      "text/plain": [
       "array([[0.24742606, 0.09299006, 0.61176337],\n",
       "       [0.06066207, 0.66103343, 0.75515778]])"
      ]
     },
     "execution_count": 319,
     "metadata": {},
     "output_type": "execute_result"
    }
   ],
   "source": [
    "random_array[0:2,:]"
   ]
  },
  {
   "cell_type": "code",
   "execution_count": 317,
   "id": "7bbe20a4-9a11-4c66-8b65-9f480e8bad1b",
   "metadata": {},
   "outputs": [
    {
     "data": {
      "text/plain": [
       "array([0.24742606, 0.06066207, 0.1108689 ])"
      ]
     },
     "execution_count": 317,
     "metadata": {},
     "output_type": "execute_result"
    }
   ],
   "source": [
    "random_array[:, 0]"
   ]
  },
  {
   "cell_type": "code",
   "execution_count": 315,
   "id": "58f63005-5a75-4905-9e20-89056908d987",
   "metadata": {},
   "outputs": [
    {
     "data": {
      "text/plain": [
       "0.04305584439252108"
      ]
     },
     "execution_count": 315,
     "metadata": {},
     "output_type": "execute_result"
    }
   ],
   "source": [
    "random_array[2, 1]"
   ]
  },
  {
   "cell_type": "code",
   "execution_count": null,
   "id": "0895a853-1d96-4796-9a6f-abecf19e3ac3",
   "metadata": {},
   "outputs": [],
   "source": []
  },
  {
   "cell_type": "markdown",
   "id": "bb504f65-81a1-4a1d-95db-d49daa337f2d",
   "metadata": {},
   "source": [
    "## Array Operations"
   ]
  },
  {
   "cell_type": "code",
   "execution_count": 323,
   "id": "7105e205-e9de-4026-ae6e-4755a1586f3c",
   "metadata": {},
   "outputs": [
    {
     "data": {
      "text/plain": [
       "array([39, 39, 93, 86, 48, 46, 48, 30, 11, 57], dtype=int64)"
      ]
     },
     "execution_count": 323,
     "metadata": {},
     "output_type": "execute_result"
    }
   ],
   "source": [
    "import numpy as np\n",
    "\n",
    "rng = np.random.default_rng(616)\n",
    "\n",
    "inventory = rng.integers(0, 100, 10)\n",
    "\n",
    "inventory"
   ]
  },
  {
   "cell_type": "code",
   "execution_count": 325,
   "id": "40a224f7-b215-4c7a-bfa7-1d26e54be9df",
   "metadata": {},
   "outputs": [
    {
     "data": {
      "text/plain": [
       "array([ 15,  15,  69,  62,  24,  22,  24,   6, -13,  33], dtype=int64)"
      ]
     },
     "execution_count": 325,
     "metadata": {},
     "output_type": "execute_result"
    }
   ],
   "source": [
    "inventory - 24"
   ]
  },
  {
   "cell_type": "code",
   "execution_count": 327,
   "id": "261c14ad-7c27-4db9-b8ea-679b426aa982",
   "metadata": {},
   "outputs": [
    {
     "data": {
      "text/plain": [
       "dtype('float64')"
      ]
     },
     "execution_count": 327,
     "metadata": {},
     "output_type": "execute_result"
    }
   ],
   "source": [
    "(inventory / 2).dtype"
   ]
  },
  {
   "cell_type": "code",
   "execution_count": 335,
   "id": "d700a9b6-de91-41e9-830a-3de57dee275d",
   "metadata": {},
   "outputs": [
    {
     "data": {
      "text/plain": [
       "array([1.9 , 1.69, 4.74, 5.92, 4.25, 8.22, 3.8 , 0.22, 9.82, 5.5 ])"
      ]
     },
     "execution_count": 335,
     "metadata": {},
     "output_type": "execute_result"
    }
   ],
   "source": [
    "price = (rng.random(10) * 10).round(2)\n",
    "\n",
    "price"
   ]
  },
  {
   "cell_type": "code",
   "execution_count": 337,
   "id": "c6fc29b3-a91d-4cec-8d81-b74318e206d6",
   "metadata": {},
   "outputs": [
    {
     "data": {
      "text/plain": [
       "array([ 74.1 ,  65.91, 440.82, 509.12, 204.  , 378.12, 182.4 ,   6.6 ,\n",
       "       108.02, 313.5 ])"
      ]
     },
     "execution_count": 337,
     "metadata": {},
     "output_type": "execute_result"
    }
   ],
   "source": [
    "price * inventory"
   ]
  },
  {
   "cell_type": "code",
   "execution_count": 343,
   "id": "be57f7d2-854c-489f-b620-82e5d6582720",
   "metadata": {},
   "outputs": [
    {
     "data": {
      "text/plain": [
       "[39, 39, 93, 86, 48, 46, 48, 30, 11, 57]"
      ]
     },
     "execution_count": 343,
     "metadata": {},
     "output_type": "execute_result"
    }
   ],
   "source": [
    "inventory_list = list(inventory)\n",
    "\n",
    "inventory_list"
   ]
  },
  {
   "cell_type": "code",
   "execution_count": 347,
   "id": "4a121d92-661c-4c9b-9fc3-9e669695cde9",
   "metadata": {},
   "outputs": [
    {
     "ename": "TypeError",
     "evalue": "can only concatenate list (not \"int\") to list",
     "output_type": "error",
     "traceback": [
      "\u001b[1;31m---------------------------------------------------------------------------\u001b[0m",
      "\u001b[1;31mTypeError\u001b[0m                                 Traceback (most recent call last)",
      "Cell \u001b[1;32mIn[347], line 1\u001b[0m\n\u001b[1;32m----> 1\u001b[0m inventory_list \u001b[38;5;241m+\u001b[39m \u001b[38;5;241m2\u001b[39m\n",
      "\u001b[1;31mTypeError\u001b[0m: can only concatenate list (not \"int\") to list"
     ]
    }
   ],
   "source": [
    "inventory_list + 2"
   ]
  },
  {
   "cell_type": "code",
   "execution_count": 349,
   "id": "99a84711-ae59-4fe0-8b06-ba7d92e34cdd",
   "metadata": {},
   "outputs": [
    {
     "data": {
      "text/plain": [
       "[41, 41, 95, 88, 50, 48, 50, 32, 13, 59]"
      ]
     },
     "execution_count": 349,
     "metadata": {},
     "output_type": "execute_result"
    }
   ],
   "source": [
    "new_inventory = []\n",
    "\n",
    "for x in inventory_list:\n",
    "    new_inventory.append(x + 2)\n",
    "\n",
    "new_inventory"
   ]
  },
  {
   "cell_type": "code",
   "execution_count": 351,
   "id": "5de57634-004f-4506-ab71-a6f03613276f",
   "metadata": {},
   "outputs": [
    {
     "data": {
      "text/plain": [
       "[41, 41, 95, 88, 50, 48, 50, 32, 13, 59]"
      ]
     },
     "execution_count": 351,
     "metadata": {},
     "output_type": "execute_result"
    }
   ],
   "source": [
    "[x + 2 for x in inventory_list]"
   ]
  },
  {
   "cell_type": "code",
   "execution_count": 355,
   "id": "e5bf5150-e7ad-4c5c-be98-47419b62e616",
   "metadata": {},
   "outputs": [
    {
     "data": {
      "text/plain": [
       "[74.1,\n",
       " 65.91,\n",
       " 440.82,\n",
       " 509.12,\n",
       " 204.0,\n",
       " 378.12,\n",
       " 182.39999999999998,\n",
       " 6.6,\n",
       " 108.02000000000001,\n",
       " 313.5]"
      ]
     },
     "execution_count": 355,
     "metadata": {},
     "output_type": "execute_result"
    }
   ],
   "source": [
    "[x * y for x, y in zip(inventory_list, price)]"
   ]
  },
  {
   "cell_type": "code",
   "execution_count": null,
   "id": "24899854-c53b-4ef4-bab8-cdc79c13b151",
   "metadata": {},
   "outputs": [],
   "source": []
  },
  {
   "cell_type": "markdown",
   "id": "bc6e7326-6228-4df3-b40a-90f6078d97c3",
   "metadata": {},
   "source": [
    "### Demo"
   ]
  },
  {
   "cell_type": "code",
   "execution_count": 361,
   "id": "d76bf2dd-da2b-46aa-8818-927fdc2a138f",
   "metadata": {},
   "outputs": [
    {
     "data": {
      "text/plain": [
       "array([ -5, -10,   5,  -6,  -2])"
      ]
     },
     "execution_count": 361,
     "metadata": {},
     "output_type": "execute_result"
    }
   ],
   "source": [
    "import numpy as np\n",
    "\n",
    "# Population age data for two small towns\n",
    "town_a_ages = np.array([25, 45, 70, 34, 58])\n",
    "town_b_ages = np.array([30, 55, 65, 40, 60])\n",
    "\n",
    "age_differences = town_a_ages - town_b_ages \n",
    "age_differences"
   ]
  },
  {
   "cell_type": "code",
   "execution_count": null,
   "id": "1a076672-8cd9-42eb-a5f2-94fdbb9b28e3",
   "metadata": {},
   "outputs": [],
   "source": []
  },
  {
   "cell_type": "markdown",
   "id": "6b884a15-a0ca-4130-9983-90a493774c82",
   "metadata": {},
   "source": [
    "### Assignment 5"
   ]
  },
  {
   "cell_type": "code",
   "execution_count": 365,
   "id": "6e2a829b-f572-4ab3-8460-c99d8854e129",
   "metadata": {},
   "outputs": [],
   "source": [
    "prices = np.array([5.99, 6.99, 22.49, 99.99, 4.99, 49.99])\n"
   ]
  },
  {
   "cell_type": "code",
   "execution_count": 367,
   "id": "e19baa0a-191d-4767-880f-41d575fe2ca5",
   "metadata": {},
   "outputs": [
    {
     "data": {
      "text/plain": [
       "array([ 10.99,  11.99,  27.49, 104.99,   9.99,  54.99])"
      ]
     },
     "execution_count": 367,
     "metadata": {},
     "output_type": "execute_result"
    }
   ],
   "source": [
    "total = prices + 5\n",
    "\n",
    "total"
   ]
  },
  {
   "cell_type": "code",
   "execution_count": 407,
   "id": "702289fc-3f2a-495d-b90d-027150a99ddb",
   "metadata": {},
   "outputs": [
    {
     "data": {
      "text/plain": [
       "array([0.24742606, 0.09299006, 0.61176337, 0.06066207, 0.66103343,\n",
       "       0.75515778])"
      ]
     },
     "execution_count": 407,
     "metadata": {},
     "output_type": "execute_result"
    }
   ],
   "source": [
    "from numpy.random import default_rng\n",
    "\n",
    "rng = default_rng(2022)\n",
    "\n",
    "random_array = rng.random(9).reshape(3, 3)\n",
    "\n",
    "discount_pct = random_array[0:2, :].reshape(6)\n",
    "discount_pct"
   ]
  },
  {
   "cell_type": "code",
   "execution_count": 415,
   "id": "229e0f63-8c93-4b70-851e-9bb55cd643b8",
   "metadata": {},
   "outputs": [
    {
     "data": {
      "text/plain": [
       "array([0.75257394, 0.90700994, 0.38823663, 0.93933793, 0.33896657,\n",
       "       0.24484222])"
      ]
     },
     "execution_count": 415,
     "metadata": {},
     "output_type": "execute_result"
    }
   ],
   "source": [
    "pct_owed = 1 - discount_pct\n",
    "pct_owed"
   ]
  },
  {
   "cell_type": "code",
   "execution_count": 421,
   "id": "e61cc2bb-3379-4f28-8cba-d28a57ba0ddb",
   "metadata": {},
   "outputs": [
    {
     "data": {
      "text/plain": [
       "array([ 8.27, 10.88, 10.67, 98.62,  3.39, 13.46])"
      ]
     },
     "execution_count": 421,
     "metadata": {},
     "output_type": "execute_result"
    }
   ],
   "source": [
    "final_owed = (total * pct_owed).round(2)\n",
    "\n",
    "final_owed"
   ]
  },
  {
   "cell_type": "code",
   "execution_count": null,
   "id": "df933966-d981-4eda-b799-5fdc3949482e",
   "metadata": {},
   "outputs": [],
   "source": []
  },
  {
   "cell_type": "markdown",
   "id": "d83288b2-7a20-4c24-9589-742ecbedbd13",
   "metadata": {},
   "source": [
    "## Filtering Arrays, Modifying Array Values"
   ]
  },
  {
   "cell_type": "code",
   "execution_count": 426,
   "id": "47e43356-8463-400a-8fc2-e669a140e8e0",
   "metadata": {},
   "outputs": [],
   "source": [
    "import numpy as np"
   ]
  },
  {
   "cell_type": "code",
   "execution_count": 430,
   "id": "d5fe7386-070e-4fdb-bc3a-f26ef5dd1257",
   "metadata": {},
   "outputs": [
    {
     "data": {
      "text/plain": [
       "array([ 0,  1,  2,  3,  4,  5,  6,  7,  8,  9, 10, 11, 12, 13, 14, 15, 16,\n",
       "       17, 18, 19])"
      ]
     },
     "execution_count": 430,
     "metadata": {},
     "output_type": "execute_result"
    }
   ],
   "source": [
    "my_array = np.arange(20)\n",
    "\n",
    "my_array"
   ]
  },
  {
   "cell_type": "code",
   "execution_count": 432,
   "id": "2b5a0933-90c0-4648-b348-6e58e178842a",
   "metadata": {},
   "outputs": [
    {
     "data": {
      "text/plain": [
       "array([ True, False,  True, False,  True, False,  True, False,  True,\n",
       "       False,  True, False,  True, False,  True, False,  True, False,\n",
       "        True, False])"
      ]
     },
     "execution_count": 432,
     "metadata": {},
     "output_type": "execute_result"
    }
   ],
   "source": [
    "my_array % 2 == 0"
   ]
  },
  {
   "cell_type": "code",
   "execution_count": 434,
   "id": "6d359be4-c16b-43ec-8e4d-4ee1c9522af0",
   "metadata": {},
   "outputs": [
    {
     "data": {
      "text/plain": [
       "array([ 0,  2,  4,  6,  8, 10, 12, 14, 16, 18])"
      ]
     },
     "execution_count": 434,
     "metadata": {},
     "output_type": "execute_result"
    }
   ],
   "source": [
    "my_array[my_array % 2 == 0]"
   ]
  },
  {
   "cell_type": "code",
   "execution_count": 436,
   "id": "66cc5bac-bf81-42a3-a36b-6ca1f3bfb1c8",
   "metadata": {},
   "outputs": [
    {
     "data": {
      "text/plain": [
       "array(['even', 'odd', 'even', 'odd', 'even', 'odd', 'even', 'odd', 'even',\n",
       "       'odd', 'even', 'odd', 'even', 'odd', 'even', 'odd', 'even', 'odd',\n",
       "       'even', 'odd'], dtype='<U4')"
      ]
     },
     "execution_count": 436,
     "metadata": {},
     "output_type": "execute_result"
    }
   ],
   "source": [
    "even_odd = np.array(['even', 'odd'] * 10)\n",
    "\n",
    "even_odd"
   ]
  },
  {
   "cell_type": "code",
   "execution_count": 438,
   "id": "6934db88-3d94-4edf-9993-550bb0ca5f4d",
   "metadata": {},
   "outputs": [
    {
     "data": {
      "text/plain": [
       "array([ True, False,  True, False,  True, False,  True, False,  True,\n",
       "       False,  True, False,  True, False,  True, False,  True, False,\n",
       "        True, False])"
      ]
     },
     "execution_count": 438,
     "metadata": {},
     "output_type": "execute_result"
    }
   ],
   "source": [
    "even_odd != 'odd'"
   ]
  },
  {
   "cell_type": "code",
   "execution_count": 440,
   "id": "f0e3ac45-0299-4d2d-9ff0-f6d707a75630",
   "metadata": {},
   "outputs": [
    {
     "data": {
      "text/plain": [
       "array(['even', 'even', 'even', 'even', 'even', 'even', 'even', 'even',\n",
       "       'even', 'even'], dtype='<U4')"
      ]
     },
     "execution_count": 440,
     "metadata": {},
     "output_type": "execute_result"
    }
   ],
   "source": [
    "even_odd[even_odd != 'odd']"
   ]
  },
  {
   "cell_type": "code",
   "execution_count": 442,
   "id": "abc73028-8749-4a45-9707-c23ea6f710fa",
   "metadata": {},
   "outputs": [],
   "source": [
    "my_array[even_odd != 'odd'] = 0"
   ]
  },
  {
   "cell_type": "code",
   "execution_count": 444,
   "id": "e6a35d9a-3166-4405-a05e-c410da0cda30",
   "metadata": {},
   "outputs": [
    {
     "data": {
      "text/plain": [
       "array([ 0,  1,  0,  3,  0,  5,  0,  7,  0,  9,  0, 11,  0, 13,  0, 15,  0,\n",
       "       17,  0, 19])"
      ]
     },
     "execution_count": 444,
     "metadata": {},
     "output_type": "execute_result"
    }
   ],
   "source": [
    "my_array"
   ]
  },
  {
   "cell_type": "code",
   "execution_count": 446,
   "id": "385b8d72-a5c7-4d39-b571-9dcf5f3b4281",
   "metadata": {},
   "outputs": [],
   "source": [
    "my_array[2] = 2"
   ]
  },
  {
   "cell_type": "code",
   "execution_count": 448,
   "id": "061cdf26-959f-412e-bb82-20fdf8ab15cd",
   "metadata": {},
   "outputs": [
    {
     "data": {
      "text/plain": [
       "array([ 0,  1,  2,  3,  0,  5,  0,  7,  0,  9,  0, 11,  0, 13,  0, 15,  0,\n",
       "       17,  0, 19])"
      ]
     },
     "execution_count": 448,
     "metadata": {},
     "output_type": "execute_result"
    }
   ],
   "source": [
    "my_array"
   ]
  },
  {
   "cell_type": "code",
   "execution_count": 451,
   "id": "f15448f6-2728-43f0-a2b7-2e2ff6eee44f",
   "metadata": {},
   "outputs": [
    {
     "data": {
      "text/plain": [
       "array(['even', 'odd', 'even', 'odd', 'even', 'odd', 'even', 'odd', 'even',\n",
       "       'odd', 'even', 'odd', 'even', 'odd', 'even', 'odd', 'even', 'odd',\n",
       "       'even', 'odd'], dtype='<U4')"
      ]
     },
     "execution_count": 451,
     "metadata": {},
     "output_type": "execute_result"
    }
   ],
   "source": [
    "mask = (even_odd != 'odd') | (even_odd != 'even')\n",
    "\n",
    "even_odd[mask]"
   ]
  },
  {
   "cell_type": "code",
   "execution_count": 453,
   "id": "f9da2422-0ab0-4ef0-81dd-c1c31ad55177",
   "metadata": {},
   "outputs": [
    {
     "data": {
      "text/plain": [
       "array([], dtype='<U4')"
      ]
     },
     "execution_count": 453,
     "metadata": {},
     "output_type": "execute_result"
    }
   ],
   "source": [
    "mask = (even_odd != 'odd') & (even_odd != 'even')\n",
    "\n",
    "even_odd[mask]"
   ]
  },
  {
   "cell_type": "code",
   "execution_count": null,
   "id": "1c6d1f36-fc18-4a6f-a5f4-c58b58e9fd10",
   "metadata": {},
   "outputs": [],
   "source": []
  },
  {
   "cell_type": "markdown",
   "id": "8ea9c6f0-96db-4178-8a26-3e4dd2e4ccef",
   "metadata": {},
   "source": [
    "## Where function"
   ]
  },
  {
   "cell_type": "code",
   "execution_count": 457,
   "id": "301c8cce-aff3-447c-820f-b6148de2b9b9",
   "metadata": {},
   "outputs": [
    {
     "data": {
      "text/plain": [
       "array(['even', 'odd', 'even', 'odd', 'even', 'odd', 'even', 'odd', 'even',\n",
       "       'odd', 'even', 'odd', 'even', 'odd', 'even', 'odd', 'even', 'odd',\n",
       "       'even', 'odd'], dtype='<U4')"
      ]
     },
     "execution_count": 457,
     "metadata": {},
     "output_type": "execute_result"
    }
   ],
   "source": [
    "np.where(my_array % 2 == 0, 'even', 'odd')"
   ]
  },
  {
   "cell_type": "code",
   "execution_count": 459,
   "id": "1ce444b3-4813-4e3a-a041-6893204251b0",
   "metadata": {},
   "outputs": [
    {
     "data": {
      "text/plain": [
       "array(['even', 'odd', 'even', 'odd', 'even', 'odd', 'even', 'odd', 'even',\n",
       "       '9', 'even', 'odd', 'even', 'odd', 'even', 'odd', 'even', 'odd',\n",
       "       'even', 'odd'], dtype='<U11')"
      ]
     },
     "execution_count": 459,
     "metadata": {},
     "output_type": "execute_result"
    }
   ],
   "source": [
    "np.where(my_array % 2 == 0, 'even', np.where(my_array == 9, my_array, 'odd'))"
   ]
  },
  {
   "cell_type": "code",
   "execution_count": null,
   "id": "2148345e-7878-4cb5-abb9-885cabefb0b2",
   "metadata": {},
   "outputs": [],
   "source": []
  },
  {
   "cell_type": "markdown",
   "id": "c26fea79-27eb-4ce5-9f2b-cf92809a9e4b",
   "metadata": {},
   "source": [
    "### Demo"
   ]
  },
  {
   "cell_type": "code",
   "execution_count": 468,
   "id": "f89416cb-ac18-46ab-a9b3-03812ee65fc2",
   "metadata": {},
   "outputs": [
    {
     "data": {
      "text/plain": [
       "(array([0, 3, 4, 5, 6, 8, 9], dtype=int64),)"
      ]
     },
     "execution_count": 468,
     "metadata": {},
     "output_type": "execute_result"
    }
   ],
   "source": [
    "import numpy as np\n",
    "\n",
    "# Provided array of ages\n",
    "ages = np.array([25, 12, 15, 64, 35, 80, 45, 10, 22, 55])\n",
    "\n",
    "adult_ages = np.where(ages > 18)\n",
    "\n",
    "adult_ages"
   ]
  },
  {
   "cell_type": "markdown",
   "id": "0a9fe5e9-cc2f-4034-bec3-e14a1cedb89f",
   "metadata": {},
   "source": [
    "### Assignment 7"
   ]
  },
  {
   "cell_type": "code",
   "execution_count": 494,
   "id": "57ed256f-5f21-49dc-9008-01a4511a16f7",
   "metadata": {},
   "outputs": [
    {
     "data": {
      "text/plain": [
       "array(['salad', 'bread', 'mustard', 'rare tomato', 'cola',\n",
       "       'gourmet ice cream'], dtype='<U17')"
      ]
     },
     "execution_count": 494,
     "metadata": {},
     "output_type": "execute_result"
    }
   ],
   "source": [
    "products = np.array(\n",
    "    [\"salad\", \"bread\", \"mustard\", \"rare tomato\", \"cola\", \"gourmet ice cream\"]\n",
    ")\n",
    "\n",
    "products"
   ]
  },
  {
   "cell_type": "code",
   "execution_count": 496,
   "id": "abe79feb-b230-4941-8b4d-3b602ca8de1c",
   "metadata": {},
   "outputs": [
    {
     "data": {
      "text/plain": [
       "array([ 5.99,  6.99, 22.49, 99.99,  4.99, 49.99])"
      ]
     },
     "execution_count": 496,
     "metadata": {},
     "output_type": "execute_result"
    }
   ],
   "source": [
    "prices = np.array([5.99, 6.99, 22.49, 99.99, 4.99, 49.99])\n",
    "\n",
    "prices"
   ]
  },
  {
   "cell_type": "code",
   "execution_count": 498,
   "id": "564bc378-0213-4a95-8407-b47f0802a671",
   "metadata": {},
   "outputs": [
    {
     "data": {
      "text/plain": [
       "array(['rare tomato', 'gourmet ice cream'], dtype='<U17')"
      ]
     },
     "execution_count": 498,
     "metadata": {},
     "output_type": "execute_result"
    }
   ],
   "source": [
    "#1 Problem\n",
    "selected_prooducts = products[prices > 25]\n",
    "\n",
    "selected_prooducts"
   ]
  },
  {
   "cell_type": "code",
   "execution_count": 522,
   "id": "b0242c37-d915-4ae5-81b9-29eabb27781f",
   "metadata": {},
   "outputs": [
    {
     "data": {
      "text/plain": [
       "array(['rare tomato', 'cola', 'gourmet ice cream'], dtype='<U17')"
      ]
     },
     "execution_count": 522,
     "metadata": {},
     "output_type": "execute_result"
    }
   ],
   "source": [
    "#2 Problem\n",
    "fancy_feast_special = np.insert(selected_prooducts, 1, 'cola')\n",
    "\n",
    "fancy_feast_special"
   ]
  },
  {
   "cell_type": "code",
   "execution_count": 524,
   "id": "32b7ba4b-0c11-4bd4-a6b0-7f2242864004",
   "metadata": {},
   "outputs": [
    {
     "data": {
      "text/plain": [
       "array(['rare tomato', 'cola', 'gourmet ice cream'], dtype='<U17')"
      ]
     },
     "execution_count": 524,
     "metadata": {},
     "output_type": "execute_result"
    }
   ],
   "source": [
    "#2 Problem 2nd solution\n",
    "mask = (prices > 25) | (products == 'cola')\n",
    "\n",
    "fancy_feast_special = products[mask]\n",
    "\n",
    "fancy_feast_special"
   ]
  },
  {
   "cell_type": "code",
   "execution_count": 526,
   "id": "f382ee25-b1a4-4de7-a29c-d703c4b368d0",
   "metadata": {},
   "outputs": [
    {
     "data": {
      "text/plain": [
       "array([5, 5, 0, 0, 5, 0])"
      ]
     },
     "execution_count": 526,
     "metadata": {},
     "output_type": "execute_result"
    }
   ],
   "source": [
    "shipping_cost = np.where(prices > 20, 0, 5)\n",
    "\n",
    "shipping_cost"
   ]
  },
  {
   "cell_type": "code",
   "execution_count": null,
   "id": "a8c93699-65da-4ab1-a8cf-130475031090",
   "metadata": {},
   "outputs": [],
   "source": []
  },
  {
   "cell_type": "markdown",
   "id": "fbb5e5ac-9df9-4f2b-9ba0-6946e30390dd",
   "metadata": {},
   "source": [
    "## Array Aggregation"
   ]
  },
  {
   "cell_type": "code",
   "execution_count": 545,
   "id": "f24b5765-b4e8-4fb3-b5ea-35ec4c6dc78a",
   "metadata": {},
   "outputs": [],
   "source": [
    "import numpy as np"
   ]
  },
  {
   "cell_type": "code",
   "execution_count": 547,
   "id": "0fe61fc0-10bb-40cc-a5b1-afb8d98c1d7f",
   "metadata": {},
   "outputs": [
    {
     "data": {
      "text/plain": [
       "array([3.97, 8.66, 4.6 , 3.06, 5.74, 0.89, 8.82, 7.32, 7.32, 5.62])"
      ]
     },
     "execution_count": 547,
     "metadata": {},
     "output_type": "execute_result"
    }
   ],
   "source": [
    "rng = np.random.default_rng(616)\n",
    "\n",
    "price = (rng.random(10) * 10).round(2)\n",
    "\n",
    "price"
   ]
  },
  {
   "cell_type": "code",
   "execution_count": 549,
   "id": "64bb83d4-1e48-4c12-b639-7ea082f7ce67",
   "metadata": {},
   "outputs": [
    {
     "data": {
      "text/plain": [
       "array([80, 33, 60,  6, 31, 35, 16, 20, 29, 43], dtype=int64)"
      ]
     },
     "execution_count": 549,
     "metadata": {},
     "output_type": "execute_result"
    }
   ],
   "source": [
    "inventory = rng.integers(0, 100, 10)\n",
    "\n",
    "inventory"
   ]
  },
  {
   "cell_type": "code",
   "execution_count": 551,
   "id": "7493d5f6-ca37-4921-97d7-537b993dec21",
   "metadata": {},
   "outputs": [
    {
     "data": {
      "text/plain": [
       "5.6"
      ]
     },
     "execution_count": 551,
     "metadata": {},
     "output_type": "execute_result"
    }
   ],
   "source": [
    "price.mean()"
   ]
  },
  {
   "cell_type": "code",
   "execution_count": 553,
   "id": "999198ee-e640-4916-852b-8183e5f3a906",
   "metadata": {},
   "outputs": [
    {
     "data": {
      "text/plain": [
       "35.3"
      ]
     },
     "execution_count": 553,
     "metadata": {},
     "output_type": "execute_result"
    }
   ],
   "source": [
    "inventory.mean()"
   ]
  },
  {
   "cell_type": "code",
   "execution_count": 555,
   "id": "1d479eab-9bd9-4eec-8e82-c4ad2cdc815c",
   "metadata": {},
   "outputs": [
    {
     "data": {
      "text/plain": [
       "353"
      ]
     },
     "execution_count": 555,
     "metadata": {},
     "output_type": "execute_result"
    }
   ],
   "source": [
    "inventory.sum()"
   ]
  },
  {
   "cell_type": "code",
   "execution_count": 557,
   "id": "81c88761-cba3-4f01-955a-efb3c741379e",
   "metadata": {},
   "outputs": [
    {
     "data": {
      "text/plain": [
       "80"
      ]
     },
     "execution_count": 557,
     "metadata": {},
     "output_type": "execute_result"
    }
   ],
   "source": [
    "inventory.max()"
   ]
  },
  {
   "cell_type": "code",
   "execution_count": 559,
   "id": "74d8a633-1fba-4977-b420-f91456dff96c",
   "metadata": {},
   "outputs": [
    {
     "data": {
      "text/plain": [
       "20.48438429633656"
      ]
     },
     "execution_count": 559,
     "metadata": {},
     "output_type": "execute_result"
    }
   ],
   "source": [
    "inventory.std()"
   ]
  },
  {
   "cell_type": "code",
   "execution_count": 563,
   "id": "5c6711bb-d0aa-4260-a1e4-e66634f8782f",
   "metadata": {},
   "outputs": [
    {
     "data": {
      "text/plain": [
       "1848.2900000000002"
      ]
     },
     "execution_count": 563,
     "metadata": {},
     "output_type": "execute_result"
    }
   ],
   "source": [
    "(price * inventory).sum()"
   ]
  },
  {
   "cell_type": "code",
   "execution_count": 565,
   "id": "95f56934-8b77-42e6-be70-945dbaf6993f",
   "metadata": {},
   "outputs": [
    {
     "data": {
      "text/plain": [
       "184.829"
      ]
     },
     "execution_count": 565,
     "metadata": {},
     "output_type": "execute_result"
    }
   ],
   "source": [
    "(price * inventory).mean()"
   ]
  },
  {
   "cell_type": "code",
   "execution_count": 567,
   "id": "d5d6678e-a9f1-4ca2-9bdb-808b64f7c892",
   "metadata": {},
   "outputs": [
    {
     "data": {
      "text/plain": [
       "317.6"
      ]
     },
     "execution_count": 567,
     "metadata": {},
     "output_type": "execute_result"
    }
   ],
   "source": [
    "(price * inventory).max()"
   ]
  },
  {
   "cell_type": "code",
   "execution_count": 577,
   "id": "038a00b8-3149-438a-878c-3b4f83697422",
   "metadata": {},
   "outputs": [
    {
     "data": {
      "text/plain": [
       "0"
      ]
     },
     "execution_count": 577,
     "metadata": {},
     "output_type": "execute_result"
    }
   ],
   "source": [
    "#argmax showing the index of most valuable product\n",
    "(price * inventory).argmax()"
   ]
  },
  {
   "cell_type": "code",
   "execution_count": 575,
   "id": "d027d9be-a3d7-425c-a547-e5ab1ff4268b",
   "metadata": {},
   "outputs": [
    {
     "data": {
      "text/plain": [
       "3"
      ]
     },
     "execution_count": 575,
     "metadata": {},
     "output_type": "execute_result"
    }
   ],
   "source": [
    "#argmin showing the index of most valuable product\n",
    "(price * inventory).argmin()"
   ]
  },
  {
   "cell_type": "code",
   "execution_count": 579,
   "id": "449fd9c5-20a9-40dd-8e35-a56ceb5185f5",
   "metadata": {},
   "outputs": [],
   "source": [
    "price_2d = price.reshape(5, 2)"
   ]
  },
  {
   "cell_type": "code",
   "execution_count": 581,
   "id": "627a21ec-c6dd-40d5-a54f-6792c4ec11f8",
   "metadata": {},
   "outputs": [
    {
     "data": {
      "text/plain": [
       "array([[3.97, 8.66],\n",
       "       [4.6 , 3.06],\n",
       "       [5.74, 0.89],\n",
       "       [8.82, 7.32],\n",
       "       [7.32, 5.62]])"
      ]
     },
     "execution_count": 581,
     "metadata": {},
     "output_type": "execute_result"
    }
   ],
   "source": [
    "price_2d"
   ]
  },
  {
   "cell_type": "code",
   "execution_count": 585,
   "id": "df03f1dc-f6c4-400b-a09a-e8829908f49b",
   "metadata": {},
   "outputs": [
    {
     "data": {
      "text/plain": [
       "array([12.63,  7.66,  6.63, 16.14, 12.94])"
      ]
     },
     "execution_count": 585,
     "metadata": {},
     "output_type": "execute_result"
    }
   ],
   "source": [
    "price_2d.sum(axis=1) # row sum"
   ]
  },
  {
   "cell_type": "code",
   "execution_count": 587,
   "id": "bff68e2a-901f-4bf6-b235-e4cffebbe866",
   "metadata": {},
   "outputs": [
    {
     "data": {
      "text/plain": [
       "array([30.45, 25.55])"
      ]
     },
     "execution_count": 587,
     "metadata": {},
     "output_type": "execute_result"
    }
   ],
   "source": [
    "price_2d.sum(axis=0) # column sum"
   ]
  },
  {
   "cell_type": "code",
   "execution_count": null,
   "id": "07c48b19-9ccf-4af9-887a-95239346c279",
   "metadata": {},
   "outputs": [],
   "source": []
  },
  {
   "cell_type": "markdown",
   "id": "8628f5b3-a7cf-419d-b55b-de3fa32dc4b3",
   "metadata": {},
   "source": [
    "## Array Functions"
   ]
  },
  {
   "cell_type": "code",
   "execution_count": 591,
   "id": "8bd2bba0-ce33-496f-9b5c-5a44a4d637cc",
   "metadata": {},
   "outputs": [],
   "source": [
    "import numpy as np"
   ]
  },
  {
   "cell_type": "code",
   "execution_count": 593,
   "id": "39ca2afb-66a3-47ff-8702-b8841efff83e",
   "metadata": {},
   "outputs": [
    {
     "data": {
      "text/plain": [
       "array([3.97, 8.66, 4.6 , 3.06, 5.74, 0.89, 8.82, 7.32, 7.32, 5.62])"
      ]
     },
     "execution_count": 593,
     "metadata": {},
     "output_type": "execute_result"
    }
   ],
   "source": [
    "rng = np.random.default_rng(616)\n",
    "\n",
    "price = (rng.random(10) * 10).round(2)\n",
    "\n",
    "price"
   ]
  },
  {
   "cell_type": "code",
   "execution_count": 595,
   "id": "8419c542-9364-41ac-b1ca-59cf3a2955b0",
   "metadata": {},
   "outputs": [
    {
     "data": {
      "text/plain": [
       "array([80, 33, 60,  6, 31, 35, 16, 20, 29, 43], dtype=int64)"
      ]
     },
     "execution_count": 595,
     "metadata": {},
     "output_type": "execute_result"
    }
   ],
   "source": [
    "inventory = rng.integers(0, 100, 10)\n",
    "\n",
    "inventory"
   ]
  },
  {
   "cell_type": "code",
   "execution_count": 599,
   "id": "aaad4ee9-542b-4ebf-b59f-bdca82237453",
   "metadata": {},
   "outputs": [
    {
     "data": {
      "text/plain": [
       "array([317.6 , 285.78, 276.  ,  18.36, 177.94,  31.15, 141.12, 146.4 ,\n",
       "       212.28, 241.66])"
      ]
     },
     "execution_count": 599,
     "metadata": {},
     "output_type": "execute_result"
    }
   ],
   "source": [
    "product_value = price * inventory\n",
    "product_value"
   ]
  },
  {
   "cell_type": "code",
   "execution_count": 607,
   "id": "a3a80e1a-db33-4107-bb05-edc7bee0d7a0",
   "metadata": {},
   "outputs": [
    {
     "data": {
      "text/plain": [
       "array([ 18.36,  31.15, 141.12, 146.4 , 177.94, 212.28, 241.66, 276.  ,\n",
       "       285.78, 317.6 ])"
      ]
     },
     "execution_count": 607,
     "metadata": {},
     "output_type": "execute_result"
    }
   ],
   "source": [
    "product_value.sort()\n",
    "product_value"
   ]
  },
  {
   "cell_type": "code",
   "execution_count": 609,
   "id": "c5a73e78-74f9-4f40-a561-343cae97efda",
   "metadata": {},
   "outputs": [
    {
     "data": {
      "text/plain": [
       "array([[ 18.36,  31.15, 141.12, 146.4 , 177.94],\n",
       "       [212.28, 241.66, 276.  , 285.78, 317.6 ]])"
      ]
     },
     "execution_count": 609,
     "metadata": {},
     "output_type": "execute_result"
    }
   ],
   "source": [
    "reshaped_product_value = product_value.reshape(2, 5)\n",
    "\n",
    "reshaped_product_value"
   ]
  },
  {
   "cell_type": "code",
   "execution_count": 611,
   "id": "edd6a202-e48d-4fb1-bc9d-b581ab0d9a0a",
   "metadata": {},
   "outputs": [
    {
     "data": {
      "text/plain": [
       "195.11"
      ]
     },
     "execution_count": 611,
     "metadata": {},
     "output_type": "execute_result"
    }
   ],
   "source": [
    "np.median(reshaped_product_value)"
   ]
  },
  {
   "cell_type": "code",
   "execution_count": 613,
   "id": "086e9763-e0c7-477a-9ca8-0bc1ee09a4ac",
   "metadata": {},
   "outputs": [
    {
     "data": {
      "text/plain": [
       "195.11"
      ]
     },
     "execution_count": 613,
     "metadata": {},
     "output_type": "execute_result"
    }
   ],
   "source": [
    "np.percentile(reshaped_product_value, 50)"
   ]
  },
  {
   "cell_type": "code",
   "execution_count": 615,
   "id": "2685cba9-5df1-406a-8271-ea205fd80fe8",
   "metadata": {},
   "outputs": [
    {
     "data": {
      "text/plain": [
       "288.962"
      ]
     },
     "execution_count": 615,
     "metadata": {},
     "output_type": "execute_result"
    }
   ],
   "source": [
    "np.percentile(reshaped_product_value, 90)"
   ]
  },
  {
   "cell_type": "code",
   "execution_count": 617,
   "id": "4e81e4fd-8b39-4be5-8dea-5c880044cefa",
   "metadata": {},
   "outputs": [
    {
     "data": {
      "text/plain": [
       "29.871000000000002"
      ]
     },
     "execution_count": 617,
     "metadata": {},
     "output_type": "execute_result"
    }
   ],
   "source": [
    "np.percentile(reshaped_product_value, 10)"
   ]
  },
  {
   "cell_type": "code",
   "execution_count": 619,
   "id": "419fa08a-8f71-4f25-b5a5-17c3189c4c00",
   "metadata": {},
   "outputs": [
    {
     "data": {
      "text/plain": [
       "array([[ 4.28485706,  5.5812185 , 11.87939392, 12.09958677, 13.33941528],\n",
       "       [14.56983185, 15.54541733, 16.61324773, 16.90502884, 17.82133553]])"
      ]
     },
     "execution_count": 619,
     "metadata": {},
     "output_type": "execute_result"
    }
   ],
   "source": [
    "np.sqrt(reshaped_product_value)"
   ]
  },
  {
   "cell_type": "code",
   "execution_count": 621,
   "id": "bf2857e2-6550-4ea0-952c-0df7e8d0c0c0",
   "metadata": {},
   "outputs": [
    {
     "data": {
      "text/plain": [
       "array([ 18.36,  31.15, 141.12, 146.4 , 177.94, 212.28, 241.66, 276.  ,\n",
       "       285.78, 317.6 ])"
      ]
     },
     "execution_count": 621,
     "metadata": {},
     "output_type": "execute_result"
    }
   ],
   "source": [
    "np.unique(reshaped_product_value)"
   ]
  },
  {
   "cell_type": "code",
   "execution_count": 623,
   "id": "7da56f09-1a85-43c1-aeaf-8cff84adc936",
   "metadata": {},
   "outputs": [
    {
     "data": {
      "text/plain": [
       "array([1.])"
      ]
     },
     "execution_count": 623,
     "metadata": {},
     "output_type": "execute_result"
    }
   ],
   "source": [
    "np.unique(np.ones(100))"
   ]
  },
  {
   "cell_type": "code",
   "execution_count": null,
   "id": "1a8189da-2fa0-4ba5-a930-703a23bf2c0a",
   "metadata": {},
   "outputs": [],
   "source": []
  },
  {
   "cell_type": "markdown",
   "id": "f55eda23-bfbe-4277-b28e-93d26805390d",
   "metadata": {},
   "source": [
    "## Sorting Arrays"
   ]
  },
  {
   "cell_type": "code",
   "execution_count": 627,
   "id": "d3b89e3b-48ec-4983-b066-69a750ebb29d",
   "metadata": {},
   "outputs": [
    {
     "data": {
      "text/plain": [
       "array([317.6 , 285.78, 276.  ,  18.36, 177.94,  31.15, 141.12, 146.4 ,\n",
       "       212.28, 241.66])"
      ]
     },
     "execution_count": 627,
     "metadata": {},
     "output_type": "execute_result"
    }
   ],
   "source": [
    "product_value = price * inventory\n",
    "product_value"
   ]
  },
  {
   "cell_type": "code",
   "execution_count": 637,
   "id": "ed11841f-8683-48a9-b630-a99bd26200ab",
   "metadata": {},
   "outputs": [
    {
     "data": {
      "text/plain": [
       "array([ 18.36,  31.15, 141.12, 146.4 , 177.94, 212.28, 241.66, 276.  ,\n",
       "       285.78, 317.6 ])"
      ]
     },
     "execution_count": 637,
     "metadata": {},
     "output_type": "execute_result"
    }
   ],
   "source": [
    "np.sort(product_value)"
   ]
  },
  {
   "cell_type": "code",
   "execution_count": 639,
   "id": "d6df07dd-cbea-43af-99a7-58536572d05f",
   "metadata": {},
   "outputs": [
    {
     "data": {
      "text/plain": [
       "array([ 18.36,  31.15, 141.12, 146.4 , 177.94])"
      ]
     },
     "execution_count": 639,
     "metadata": {},
     "output_type": "execute_result"
    }
   ],
   "source": [
    "np.sort(product_value)[:5]"
   ]
  },
  {
   "cell_type": "code",
   "execution_count": 641,
   "id": "01d9365c-6cb2-463c-869e-cef9f5af7ab3",
   "metadata": {},
   "outputs": [],
   "source": [
    "product_value.sort()"
   ]
  },
  {
   "cell_type": "code",
   "execution_count": 643,
   "id": "ff07fc47-8bae-4673-8d23-00b527c069f0",
   "metadata": {},
   "outputs": [
    {
     "data": {
      "text/plain": [
       "array([ 18.36,  31.15, 141.12, 146.4 , 177.94, 212.28, 241.66, 276.  ,\n",
       "       285.78, 317.6 ])"
      ]
     },
     "execution_count": 643,
     "metadata": {},
     "output_type": "execute_result"
    }
   ],
   "source": [
    "product_value"
   ]
  },
  {
   "cell_type": "code",
   "execution_count": 645,
   "id": "0a0dedb5-2ed3-48a1-a387-7c7e2936cf59",
   "metadata": {},
   "outputs": [
    {
     "data": {
      "text/plain": [
       "18.36"
      ]
     },
     "execution_count": 645,
     "metadata": {},
     "output_type": "execute_result"
    }
   ],
   "source": [
    "product_value[0]"
   ]
  },
  {
   "cell_type": "code",
   "execution_count": 647,
   "id": "cdbd2737-6a36-4cb0-bdd7-53e9155902d9",
   "metadata": {},
   "outputs": [
    {
     "data": {
      "text/plain": [
       "317.6"
      ]
     },
     "execution_count": 647,
     "metadata": {},
     "output_type": "execute_result"
    }
   ],
   "source": [
    "product_value[-1]"
   ]
  },
  {
   "cell_type": "code",
   "execution_count": 649,
   "id": "2f651a0d-03d2-4b92-81bd-f25fd7167e02",
   "metadata": {},
   "outputs": [
    {
     "data": {
      "text/plain": [
       "array([317.6 , 285.78, 276.  , 241.66, 212.28, 177.94, 146.4 , 141.12,\n",
       "        31.15,  18.36])"
      ]
     },
     "execution_count": 649,
     "metadata": {},
     "output_type": "execute_result"
    }
   ],
   "source": [
    "product_value[::-1]"
   ]
  },
  {
   "cell_type": "code",
   "execution_count": null,
   "id": "c39c0f55-a311-4612-b7ef-9edcaa48e937",
   "metadata": {},
   "outputs": [],
   "source": []
  },
  {
   "cell_type": "markdown",
   "id": "3447531b-bf8d-4299-bd16-1a2cd61c8784",
   "metadata": {},
   "source": [
    "### Assignment 8"
   ]
  },
  {
   "cell_type": "code",
   "execution_count": 654,
   "id": "d187cb19-04da-464d-842e-b6131249b833",
   "metadata": {},
   "outputs": [
    {
     "data": {
      "text/plain": [
       "array([ 5.99,  6.99, 22.49, 99.99,  4.99, 49.99])"
      ]
     },
     "execution_count": 654,
     "metadata": {},
     "output_type": "execute_result"
    }
   ],
   "source": [
    "prices = np.array([5.99, 6.99, 22.49, 99.99, 4.99, 49.99])\n",
    "\n",
    "prices"
   ]
  },
  {
   "cell_type": "code",
   "execution_count": 656,
   "id": "a6c48ca3-2065-4ad2-acdc-fc36825bba02",
   "metadata": {},
   "outputs": [],
   "source": [
    "price_tiers = np.array([\"budget\", \"budget\", \"mid-tier\", \"luxury\", \"mid-tier\", \"luxury\"])"
   ]
  },
  {
   "cell_type": "code",
   "execution_count": 660,
   "id": "da95fe47-5dc6-496e-ace8-6d15c5f66898",
   "metadata": {},
   "outputs": [
    {
     "data": {
      "text/plain": [
       "array([ 4.99,  5.99,  6.99, 22.49, 49.99, 99.99])"
      ]
     },
     "execution_count": 660,
     "metadata": {},
     "output_type": "execute_result"
    }
   ],
   "source": [
    "#Task 1\n",
    "sorted_prices = np.sort(prices)\n",
    "sorted_prices"
   ]
  },
  {
   "cell_type": "code",
   "execution_count": 670,
   "id": "07dffbf7-1717-495e-a4b6-956dad683930",
   "metadata": {},
   "outputs": [
    {
     "data": {
      "text/plain": [
       "array([22.49, 49.99, 99.99])"
      ]
     },
     "execution_count": 670,
     "metadata": {},
     "output_type": "execute_result"
    }
   ],
   "source": [
    "filtered_prices = sorted_prices[-3:]\n",
    "filtered_prices"
   ]
  },
  {
   "cell_type": "code",
   "execution_count": 678,
   "id": "f513f52d-b31f-4149-98d3-ab3fa2154595",
   "metadata": {},
   "outputs": [
    {
     "name": "stdout",
     "output_type": "stream",
     "text": [
      "57.49\n",
      "22.49\n",
      "99.99\n",
      "49.99\n"
     ]
    }
   ],
   "source": [
    "print(np.mean(filtered_prices))\n",
    "print(np.min(filtered_prices))\n",
    "print(np.max(filtered_prices))\n",
    "print(np.median(filtered_prices))"
   ]
  },
  {
   "cell_type": "code",
   "execution_count": 688,
   "id": "1d2cc8e7-8ade-49bc-a15f-c672e950d379",
   "metadata": {},
   "outputs": [
    {
     "data": {
      "text/plain": [
       "3"
      ]
     },
     "execution_count": 688,
     "metadata": {},
     "output_type": "execute_result"
    }
   ],
   "source": [
    "#Task 2\n",
    "np.unique(price_tiers).size"
   ]
  },
  {
   "cell_type": "code",
   "execution_count": null,
   "id": "03826470-d508-4167-b259-bd22b4029010",
   "metadata": {},
   "outputs": [],
   "source": []
  },
  {
   "cell_type": "markdown",
   "id": "874baf53-279f-4b05-8661-601e43ece105",
   "metadata": {},
   "source": [
    "## Vectorization Broadcasting"
   ]
  },
  {
   "cell_type": "markdown",
   "id": "8f1872dc-1906-4f24-bf2e-bbe417ae89eb",
   "metadata": {},
   "source": [
    "### Assignmet 9"
   ]
  },
  {
   "cell_type": "code",
   "execution_count": 694,
   "id": "e9993a91-5e3d-439a-a754-49dcf0c5fa5f",
   "metadata": {},
   "outputs": [],
   "source": [
    "import pandas as pd\n",
    "import numpy as np\n",
    "\n",
    "retail_df = pd.read_csv(\n",
    "    r\"D:\\Self_Study\\Udemy\\Python\\Python Data Analysis NumPy & Pandas Masterclass\\Pandas+Course+Resources\\Pandas Course Resources\\retail\\retail_2016_2017.csv\", skiprows=range(1, 11000), nrows=1000\n",
    ")\n",
    "\n",
    "family_array = np.array(retail_df[\"family\"])\n",
    "sales_array = np.array(retail_df[\"sales\"])"
   ]
  },
  {
   "cell_type": "code",
   "execution_count": 696,
   "id": "bfb0c572-9284-49b0-9e69-a9608bf8fd6e",
   "metadata": {},
   "outputs": [
    {
     "data": {
      "text/plain": [
       "array(['EGGS', 'FROZEN FOODS', 'GROCERY I', 'GROCERY II', 'HARDWARE',\n",
       "       'HOME AND KITCHEN I', 'HOME AND KITCHEN II', 'HOME APPLIANCES',\n",
       "       'HOME CARE', 'LADIESWEAR', 'LAWN AND GARDEN', 'LINGERIE',\n",
       "       'LIQUOR,WINE,BEER', 'MAGAZINES', 'MEATS', 'PERSONAL CARE',\n",
       "       'PET SUPPLIES', 'PLAYERS AND ELECTRONICS', 'POULTRY',\n",
       "       'PREPARED FOODS', 'PRODUCE', 'SCHOOL AND OFFICE SUPPLIES',\n",
       "       'SEAFOOD', 'AUTOMOTIVE', 'BABY CARE', 'BEAUTY', 'BEVERAGES',\n",
       "       'BOOKS', 'BREAD/BAKERY', 'CELEBRATION', 'CLEANING', 'DAIRY',\n",
       "       'DELI', 'EGGS', 'FROZEN FOODS', 'GROCERY I', 'GROCERY II',\n",
       "       'HARDWARE', 'HOME AND KITCHEN I', 'HOME AND KITCHEN II',\n",
       "       'HOME APPLIANCES', 'HOME CARE', 'LADIESWEAR', 'LAWN AND GARDEN',\n",
       "       'LINGERIE', 'LIQUOR,WINE,BEER', 'MAGAZINES', 'MEATS',\n",
       "       'PERSONAL CARE', 'PET SUPPLIES', 'PLAYERS AND ELECTRONICS',\n",
       "       'POULTRY', 'PREPARED FOODS', 'PRODUCE',\n",
       "       'SCHOOL AND OFFICE SUPPLIES', 'SEAFOOD', 'AUTOMOTIVE', 'BABY CARE',\n",
       "       'BEAUTY', 'BEVERAGES', 'BOOKS', 'BREAD/BAKERY', 'CELEBRATION',\n",
       "       'CLEANING', 'DAIRY', 'DELI', 'EGGS', 'FROZEN FOODS', 'GROCERY I',\n",
       "       'GROCERY II', 'HARDWARE', 'HOME AND KITCHEN I',\n",
       "       'HOME AND KITCHEN II', 'HOME APPLIANCES', 'HOME CARE',\n",
       "       'LADIESWEAR', 'LAWN AND GARDEN', 'LINGERIE', 'LIQUOR,WINE,BEER',\n",
       "       'MAGAZINES', 'MEATS', 'PERSONAL CARE', 'PET SUPPLIES',\n",
       "       'PLAYERS AND ELECTRONICS', 'POULTRY', 'PREPARED FOODS', 'PRODUCE',\n",
       "       'SCHOOL AND OFFICE SUPPLIES', 'SEAFOOD', 'AUTOMOTIVE', 'BABY CARE',\n",
       "       'BEAUTY', 'BEVERAGES', 'BOOKS', 'BREAD/BAKERY', 'CELEBRATION',\n",
       "       'CLEANING', 'DAIRY', 'DELI', 'EGGS', 'FROZEN FOODS', 'GROCERY I',\n",
       "       'GROCERY II', 'HARDWARE', 'HOME AND KITCHEN I',\n",
       "       'HOME AND KITCHEN II', 'HOME APPLIANCES', 'HOME CARE',\n",
       "       'LADIESWEAR', 'LAWN AND GARDEN', 'LINGERIE', 'LIQUOR,WINE,BEER',\n",
       "       'MAGAZINES', 'MEATS', 'PERSONAL CARE', 'PET SUPPLIES',\n",
       "       'PLAYERS AND ELECTRONICS', 'POULTRY', 'PREPARED FOODS', 'PRODUCE',\n",
       "       'SCHOOL AND OFFICE SUPPLIES', 'SEAFOOD', 'AUTOMOTIVE', 'BABY CARE',\n",
       "       'BEAUTY', 'BEVERAGES', 'BOOKS', 'BREAD/BAKERY', 'CELEBRATION',\n",
       "       'CLEANING', 'DAIRY', 'DELI', 'EGGS', 'FROZEN FOODS', 'GROCERY I',\n",
       "       'GROCERY II', 'HARDWARE', 'HOME AND KITCHEN I',\n",
       "       'HOME AND KITCHEN II', 'HOME APPLIANCES', 'HOME CARE',\n",
       "       'LADIESWEAR', 'LAWN AND GARDEN', 'LINGERIE', 'LIQUOR,WINE,BEER',\n",
       "       'MAGAZINES', 'MEATS', 'PERSONAL CARE', 'PET SUPPLIES',\n",
       "       'PLAYERS AND ELECTRONICS', 'POULTRY', 'PREPARED FOODS', 'PRODUCE',\n",
       "       'SCHOOL AND OFFICE SUPPLIES', 'SEAFOOD', 'AUTOMOTIVE', 'BABY CARE',\n",
       "       'BEAUTY', 'BEVERAGES', 'BOOKS', 'BREAD/BAKERY', 'CELEBRATION',\n",
       "       'CLEANING', 'DAIRY', 'DELI', 'EGGS', 'FROZEN FOODS', 'GROCERY I',\n",
       "       'GROCERY II', 'HARDWARE', 'HOME AND KITCHEN I',\n",
       "       'HOME AND KITCHEN II', 'HOME APPLIANCES', 'HOME CARE',\n",
       "       'LADIESWEAR', 'LAWN AND GARDEN', 'LINGERIE', 'LIQUOR,WINE,BEER',\n",
       "       'MAGAZINES', 'MEATS', 'PERSONAL CARE', 'PET SUPPLIES',\n",
       "       'PLAYERS AND ELECTRONICS', 'POULTRY', 'PREPARED FOODS', 'PRODUCE',\n",
       "       'SCHOOL AND OFFICE SUPPLIES', 'SEAFOOD', 'AUTOMOTIVE', 'BABY CARE',\n",
       "       'BEAUTY', 'BEVERAGES', 'BOOKS', 'BREAD/BAKERY', 'CELEBRATION',\n",
       "       'CLEANING', 'DAIRY', 'DELI', 'EGGS', 'FROZEN FOODS', 'GROCERY I',\n",
       "       'GROCERY II', 'HARDWARE', 'HOME AND KITCHEN I',\n",
       "       'HOME AND KITCHEN II', 'HOME APPLIANCES', 'HOME CARE',\n",
       "       'LADIESWEAR', 'LAWN AND GARDEN', 'LINGERIE', 'LIQUOR,WINE,BEER',\n",
       "       'MAGAZINES', 'MEATS', 'PERSONAL CARE', 'PET SUPPLIES',\n",
       "       'PLAYERS AND ELECTRONICS', 'POULTRY', 'PREPARED FOODS', 'PRODUCE',\n",
       "       'SCHOOL AND OFFICE SUPPLIES', 'SEAFOOD', 'AUTOMOTIVE', 'BABY CARE',\n",
       "       'BEAUTY', 'BEVERAGES', 'BOOKS', 'BREAD/BAKERY', 'CELEBRATION',\n",
       "       'CLEANING', 'DAIRY', 'DELI', 'EGGS', 'FROZEN FOODS', 'GROCERY I',\n",
       "       'GROCERY II', 'HARDWARE', 'HOME AND KITCHEN I',\n",
       "       'HOME AND KITCHEN II', 'HOME APPLIANCES', 'HOME CARE',\n",
       "       'LADIESWEAR', 'LAWN AND GARDEN', 'LINGERIE', 'LIQUOR,WINE,BEER',\n",
       "       'MAGAZINES', 'MEATS', 'PERSONAL CARE', 'PET SUPPLIES',\n",
       "       'PLAYERS AND ELECTRONICS', 'POULTRY', 'PREPARED FOODS', 'PRODUCE',\n",
       "       'SCHOOL AND OFFICE SUPPLIES', 'SEAFOOD', 'AUTOMOTIVE', 'BABY CARE',\n",
       "       'BEAUTY', 'BEVERAGES', 'BOOKS', 'BREAD/BAKERY', 'CELEBRATION',\n",
       "       'CLEANING', 'DAIRY', 'DELI', 'EGGS', 'FROZEN FOODS', 'GROCERY I',\n",
       "       'GROCERY II', 'HARDWARE', 'HOME AND KITCHEN I',\n",
       "       'HOME AND KITCHEN II', 'HOME APPLIANCES', 'HOME CARE',\n",
       "       'LADIESWEAR', 'LAWN AND GARDEN', 'LINGERIE', 'LIQUOR,WINE,BEER',\n",
       "       'MAGAZINES', 'MEATS', 'PERSONAL CARE', 'PET SUPPLIES',\n",
       "       'PLAYERS AND ELECTRONICS', 'POULTRY', 'PREPARED FOODS', 'PRODUCE',\n",
       "       'SCHOOL AND OFFICE SUPPLIES', 'SEAFOOD', 'AUTOMOTIVE', 'BABY CARE',\n",
       "       'BEAUTY', 'BEVERAGES', 'BOOKS', 'BREAD/BAKERY', 'CELEBRATION',\n",
       "       'CLEANING', 'DAIRY', 'DELI', 'EGGS', 'FROZEN FOODS', 'GROCERY I',\n",
       "       'GROCERY II', 'HARDWARE', 'HOME AND KITCHEN I',\n",
       "       'HOME AND KITCHEN II', 'HOME APPLIANCES', 'HOME CARE',\n",
       "       'LADIESWEAR', 'LAWN AND GARDEN', 'LINGERIE', 'LIQUOR,WINE,BEER',\n",
       "       'MAGAZINES', 'MEATS', 'PERSONAL CARE', 'PET SUPPLIES',\n",
       "       'PLAYERS AND ELECTRONICS', 'POULTRY', 'PREPARED FOODS', 'PRODUCE',\n",
       "       'SCHOOL AND OFFICE SUPPLIES', 'SEAFOOD', 'AUTOMOTIVE', 'BABY CARE',\n",
       "       'BEAUTY', 'BEVERAGES', 'BOOKS', 'BREAD/BAKERY', 'CELEBRATION',\n",
       "       'CLEANING', 'DAIRY', 'DELI', 'EGGS', 'FROZEN FOODS', 'GROCERY I',\n",
       "       'GROCERY II', 'HARDWARE', 'HOME AND KITCHEN I',\n",
       "       'HOME AND KITCHEN II', 'HOME APPLIANCES', 'HOME CARE',\n",
       "       'LADIESWEAR', 'LAWN AND GARDEN', 'LINGERIE', 'LIQUOR,WINE,BEER',\n",
       "       'MAGAZINES', 'MEATS', 'PERSONAL CARE', 'PET SUPPLIES',\n",
       "       'PLAYERS AND ELECTRONICS', 'POULTRY', 'PREPARED FOODS', 'PRODUCE',\n",
       "       'SCHOOL AND OFFICE SUPPLIES', 'SEAFOOD', 'AUTOMOTIVE', 'BABY CARE',\n",
       "       'BEAUTY', 'BEVERAGES', 'BOOKS', 'BREAD/BAKERY', 'CELEBRATION',\n",
       "       'CLEANING', 'DAIRY', 'DELI', 'EGGS', 'FROZEN FOODS', 'GROCERY I',\n",
       "       'GROCERY II', 'HARDWARE', 'HOME AND KITCHEN I',\n",
       "       'HOME AND KITCHEN II', 'HOME APPLIANCES', 'HOME CARE',\n",
       "       'LADIESWEAR', 'LAWN AND GARDEN', 'LINGERIE', 'LIQUOR,WINE,BEER',\n",
       "       'MAGAZINES', 'MEATS', 'PERSONAL CARE', 'PET SUPPLIES',\n",
       "       'PLAYERS AND ELECTRONICS', 'POULTRY', 'PREPARED FOODS', 'PRODUCE',\n",
       "       'SCHOOL AND OFFICE SUPPLIES', 'SEAFOOD', 'AUTOMOTIVE', 'BABY CARE',\n",
       "       'BEAUTY', 'BEVERAGES', 'BOOKS', 'BREAD/BAKERY', 'CELEBRATION',\n",
       "       'CLEANING', 'DAIRY', 'DELI', 'EGGS', 'FROZEN FOODS', 'GROCERY I',\n",
       "       'GROCERY II', 'HARDWARE', 'HOME AND KITCHEN I',\n",
       "       'HOME AND KITCHEN II', 'HOME APPLIANCES', 'HOME CARE',\n",
       "       'LADIESWEAR', 'LAWN AND GARDEN', 'LINGERIE', 'LIQUOR,WINE,BEER',\n",
       "       'MAGAZINES', 'MEATS', 'PERSONAL CARE', 'PET SUPPLIES',\n",
       "       'PLAYERS AND ELECTRONICS', 'POULTRY', 'PREPARED FOODS', 'PRODUCE',\n",
       "       'SCHOOL AND OFFICE SUPPLIES', 'SEAFOOD', 'AUTOMOTIVE', 'BABY CARE',\n",
       "       'BEAUTY', 'BEVERAGES', 'BOOKS', 'BREAD/BAKERY', 'CELEBRATION',\n",
       "       'CLEANING', 'DAIRY', 'DELI', 'EGGS', 'FROZEN FOODS', 'GROCERY I',\n",
       "       'GROCERY II', 'HARDWARE', 'HOME AND KITCHEN I',\n",
       "       'HOME AND KITCHEN II', 'HOME APPLIANCES', 'HOME CARE',\n",
       "       'LADIESWEAR', 'LAWN AND GARDEN', 'LINGERIE', 'LIQUOR,WINE,BEER',\n",
       "       'MAGAZINES', 'MEATS', 'PERSONAL CARE', 'PET SUPPLIES',\n",
       "       'PLAYERS AND ELECTRONICS', 'POULTRY', 'PREPARED FOODS', 'PRODUCE',\n",
       "       'SCHOOL AND OFFICE SUPPLIES', 'SEAFOOD', 'AUTOMOTIVE', 'BABY CARE',\n",
       "       'BEAUTY', 'BEVERAGES', 'BOOKS', 'BREAD/BAKERY', 'CELEBRATION',\n",
       "       'CLEANING', 'DAIRY', 'DELI', 'EGGS', 'FROZEN FOODS', 'GROCERY I',\n",
       "       'GROCERY II', 'HARDWARE', 'HOME AND KITCHEN I',\n",
       "       'HOME AND KITCHEN II', 'HOME APPLIANCES', 'HOME CARE',\n",
       "       'LADIESWEAR', 'LAWN AND GARDEN', 'LINGERIE', 'LIQUOR,WINE,BEER',\n",
       "       'MAGAZINES', 'MEATS', 'PERSONAL CARE', 'PET SUPPLIES',\n",
       "       'PLAYERS AND ELECTRONICS', 'POULTRY', 'PREPARED FOODS', 'PRODUCE',\n",
       "       'SCHOOL AND OFFICE SUPPLIES', 'SEAFOOD', 'AUTOMOTIVE', 'BABY CARE',\n",
       "       'BEAUTY', 'BEVERAGES', 'BOOKS', 'BREAD/BAKERY', 'CELEBRATION',\n",
       "       'CLEANING', 'DAIRY', 'DELI', 'EGGS', 'FROZEN FOODS', 'GROCERY I',\n",
       "       'GROCERY II', 'HARDWARE', 'HOME AND KITCHEN I',\n",
       "       'HOME AND KITCHEN II', 'HOME APPLIANCES', 'HOME CARE',\n",
       "       'LADIESWEAR', 'LAWN AND GARDEN', 'LINGERIE', 'LIQUOR,WINE,BEER',\n",
       "       'MAGAZINES', 'MEATS', 'PERSONAL CARE', 'PET SUPPLIES',\n",
       "       'PLAYERS AND ELECTRONICS', 'POULTRY', 'PREPARED FOODS', 'PRODUCE',\n",
       "       'SCHOOL AND OFFICE SUPPLIES', 'SEAFOOD', 'AUTOMOTIVE', 'BABY CARE',\n",
       "       'BEAUTY', 'BEVERAGES', 'BOOKS', 'BREAD/BAKERY', 'CELEBRATION',\n",
       "       'CLEANING', 'DAIRY', 'DELI', 'EGGS', 'FROZEN FOODS', 'GROCERY I',\n",
       "       'GROCERY II', 'HARDWARE', 'HOME AND KITCHEN I',\n",
       "       'HOME AND KITCHEN II', 'HOME APPLIANCES', 'HOME CARE',\n",
       "       'LADIESWEAR', 'LAWN AND GARDEN', 'LINGERIE', 'LIQUOR,WINE,BEER',\n",
       "       'MAGAZINES', 'MEATS', 'PERSONAL CARE', 'PET SUPPLIES',\n",
       "       'PLAYERS AND ELECTRONICS', 'POULTRY', 'PREPARED FOODS', 'PRODUCE',\n",
       "       'SCHOOL AND OFFICE SUPPLIES', 'SEAFOOD', 'AUTOMOTIVE', 'BABY CARE',\n",
       "       'BEAUTY', 'BEVERAGES', 'BOOKS', 'BREAD/BAKERY', 'CELEBRATION',\n",
       "       'CLEANING', 'DAIRY', 'DELI', 'EGGS', 'FROZEN FOODS', 'GROCERY I',\n",
       "       'GROCERY II', 'HARDWARE', 'HOME AND KITCHEN I',\n",
       "       'HOME AND KITCHEN II', 'HOME APPLIANCES', 'HOME CARE',\n",
       "       'LADIESWEAR', 'LAWN AND GARDEN', 'LINGERIE', 'LIQUOR,WINE,BEER',\n",
       "       'MAGAZINES', 'MEATS', 'PERSONAL CARE', 'PET SUPPLIES',\n",
       "       'PLAYERS AND ELECTRONICS', 'POULTRY', 'PREPARED FOODS', 'PRODUCE',\n",
       "       'SCHOOL AND OFFICE SUPPLIES', 'SEAFOOD', 'AUTOMOTIVE', 'BABY CARE',\n",
       "       'BEAUTY', 'BEVERAGES', 'BOOKS', 'BREAD/BAKERY', 'CELEBRATION',\n",
       "       'CLEANING', 'DAIRY', 'DELI', 'EGGS', 'FROZEN FOODS', 'GROCERY I',\n",
       "       'GROCERY II', 'HARDWARE', 'HOME AND KITCHEN I',\n",
       "       'HOME AND KITCHEN II', 'HOME APPLIANCES', 'HOME CARE',\n",
       "       'LADIESWEAR', 'LAWN AND GARDEN', 'LINGERIE', 'LIQUOR,WINE,BEER',\n",
       "       'MAGAZINES', 'MEATS', 'PERSONAL CARE', 'PET SUPPLIES',\n",
       "       'PLAYERS AND ELECTRONICS', 'POULTRY', 'PREPARED FOODS', 'PRODUCE',\n",
       "       'SCHOOL AND OFFICE SUPPLIES', 'SEAFOOD', 'AUTOMOTIVE', 'BABY CARE',\n",
       "       'BEAUTY', 'BEVERAGES', 'BOOKS', 'BREAD/BAKERY', 'CELEBRATION',\n",
       "       'CLEANING', 'DAIRY', 'DELI', 'EGGS', 'FROZEN FOODS', 'GROCERY I',\n",
       "       'GROCERY II', 'HARDWARE', 'HOME AND KITCHEN I',\n",
       "       'HOME AND KITCHEN II', 'HOME APPLIANCES', 'HOME CARE',\n",
       "       'LADIESWEAR', 'LAWN AND GARDEN', 'LINGERIE', 'LIQUOR,WINE,BEER',\n",
       "       'MAGAZINES', 'MEATS', 'PERSONAL CARE', 'PET SUPPLIES',\n",
       "       'PLAYERS AND ELECTRONICS', 'POULTRY', 'PREPARED FOODS', 'PRODUCE',\n",
       "       'SCHOOL AND OFFICE SUPPLIES', 'SEAFOOD', 'AUTOMOTIVE', 'BABY CARE',\n",
       "       'BEAUTY', 'BEVERAGES', 'BOOKS', 'BREAD/BAKERY', 'CELEBRATION',\n",
       "       'CLEANING', 'DAIRY', 'DELI', 'EGGS', 'FROZEN FOODS', 'GROCERY I',\n",
       "       'GROCERY II', 'HARDWARE', 'HOME AND KITCHEN I',\n",
       "       'HOME AND KITCHEN II', 'HOME APPLIANCES', 'HOME CARE',\n",
       "       'LADIESWEAR', 'LAWN AND GARDEN', 'LINGERIE', 'LIQUOR,WINE,BEER',\n",
       "       'MAGAZINES', 'MEATS', 'PERSONAL CARE', 'PET SUPPLIES',\n",
       "       'PLAYERS AND ELECTRONICS', 'POULTRY', 'PREPARED FOODS', 'PRODUCE',\n",
       "       'SCHOOL AND OFFICE SUPPLIES', 'SEAFOOD', 'AUTOMOTIVE', 'BABY CARE',\n",
       "       'BEAUTY', 'BEVERAGES', 'BOOKS', 'BREAD/BAKERY', 'CELEBRATION',\n",
       "       'CLEANING', 'DAIRY', 'DELI', 'EGGS', 'FROZEN FOODS', 'GROCERY I',\n",
       "       'GROCERY II', 'HARDWARE', 'HOME AND KITCHEN I',\n",
       "       'HOME AND KITCHEN II', 'HOME APPLIANCES', 'HOME CARE',\n",
       "       'LADIESWEAR', 'LAWN AND GARDEN', 'LINGERIE', 'LIQUOR,WINE,BEER',\n",
       "       'MAGAZINES', 'MEATS', 'PERSONAL CARE', 'PET SUPPLIES',\n",
       "       'PLAYERS AND ELECTRONICS', 'POULTRY', 'PREPARED FOODS', 'PRODUCE',\n",
       "       'SCHOOL AND OFFICE SUPPLIES', 'SEAFOOD', 'AUTOMOTIVE', 'BABY CARE',\n",
       "       'BEAUTY', 'BEVERAGES', 'BOOKS', 'BREAD/BAKERY', 'CELEBRATION',\n",
       "       'CLEANING', 'DAIRY', 'DELI', 'EGGS', 'FROZEN FOODS', 'GROCERY I',\n",
       "       'GROCERY II', 'HARDWARE', 'HOME AND KITCHEN I',\n",
       "       'HOME AND KITCHEN II', 'HOME APPLIANCES', 'HOME CARE',\n",
       "       'LADIESWEAR', 'LAWN AND GARDEN', 'LINGERIE', 'LIQUOR,WINE,BEER',\n",
       "       'MAGAZINES', 'MEATS', 'PERSONAL CARE', 'PET SUPPLIES',\n",
       "       'PLAYERS AND ELECTRONICS', 'POULTRY', 'PREPARED FOODS', 'PRODUCE',\n",
       "       'SCHOOL AND OFFICE SUPPLIES', 'SEAFOOD', 'AUTOMOTIVE', 'BABY CARE',\n",
       "       'BEAUTY', 'BEVERAGES', 'BOOKS', 'BREAD/BAKERY', 'CELEBRATION',\n",
       "       'CLEANING', 'DAIRY', 'DELI', 'EGGS', 'FROZEN FOODS', 'GROCERY I',\n",
       "       'GROCERY II', 'HARDWARE', 'HOME AND KITCHEN I',\n",
       "       'HOME AND KITCHEN II', 'HOME APPLIANCES', 'HOME CARE',\n",
       "       'LADIESWEAR', 'LAWN AND GARDEN', 'LINGERIE', 'LIQUOR,WINE,BEER',\n",
       "       'MAGAZINES', 'MEATS', 'PERSONAL CARE', 'PET SUPPLIES',\n",
       "       'PLAYERS AND ELECTRONICS', 'POULTRY', 'PREPARED FOODS', 'PRODUCE',\n",
       "       'SCHOOL AND OFFICE SUPPLIES', 'SEAFOOD', 'AUTOMOTIVE', 'BABY CARE',\n",
       "       'BEAUTY', 'BEVERAGES', 'BOOKS', 'BREAD/BAKERY', 'CELEBRATION',\n",
       "       'CLEANING', 'DAIRY', 'DELI', 'EGGS', 'FROZEN FOODS', 'GROCERY I',\n",
       "       'GROCERY II', 'HARDWARE', 'HOME AND KITCHEN I',\n",
       "       'HOME AND KITCHEN II', 'HOME APPLIANCES', 'HOME CARE',\n",
       "       'LADIESWEAR', 'LAWN AND GARDEN', 'LINGERIE', 'LIQUOR,WINE,BEER',\n",
       "       'MAGAZINES', 'MEATS', 'PERSONAL CARE', 'PET SUPPLIES',\n",
       "       'PLAYERS AND ELECTRONICS', 'POULTRY', 'PREPARED FOODS', 'PRODUCE',\n",
       "       'SCHOOL AND OFFICE SUPPLIES', 'SEAFOOD', 'AUTOMOTIVE', 'BABY CARE',\n",
       "       'BEAUTY', 'BEVERAGES', 'BOOKS', 'BREAD/BAKERY', 'CELEBRATION',\n",
       "       'CLEANING', 'DAIRY', 'DELI', 'EGGS', 'FROZEN FOODS', 'GROCERY I',\n",
       "       'GROCERY II', 'HARDWARE', 'HOME AND KITCHEN I',\n",
       "       'HOME AND KITCHEN II', 'HOME APPLIANCES', 'HOME CARE',\n",
       "       'LADIESWEAR', 'LAWN AND GARDEN', 'LINGERIE', 'LIQUOR,WINE,BEER',\n",
       "       'MAGAZINES', 'MEATS', 'PERSONAL CARE', 'PET SUPPLIES',\n",
       "       'PLAYERS AND ELECTRONICS', 'POULTRY', 'PREPARED FOODS', 'PRODUCE',\n",
       "       'SCHOOL AND OFFICE SUPPLIES', 'SEAFOOD', 'AUTOMOTIVE', 'BABY CARE',\n",
       "       'BEAUTY', 'BEVERAGES', 'BOOKS', 'BREAD/BAKERY', 'CELEBRATION',\n",
       "       'CLEANING', 'DAIRY', 'DELI', 'EGGS', 'FROZEN FOODS', 'GROCERY I',\n",
       "       'GROCERY II', 'HARDWARE', 'HOME AND KITCHEN I',\n",
       "       'HOME AND KITCHEN II', 'HOME APPLIANCES', 'HOME CARE',\n",
       "       'LADIESWEAR', 'LAWN AND GARDEN', 'LINGERIE', 'LIQUOR,WINE,BEER',\n",
       "       'MAGAZINES', 'MEATS', 'PERSONAL CARE', 'PET SUPPLIES',\n",
       "       'PLAYERS AND ELECTRONICS', 'POULTRY', 'PREPARED FOODS', 'PRODUCE',\n",
       "       'SCHOOL AND OFFICE SUPPLIES', 'SEAFOOD', 'AUTOMOTIVE', 'BABY CARE',\n",
       "       'BEAUTY', 'BEVERAGES', 'BOOKS', 'BREAD/BAKERY', 'CELEBRATION',\n",
       "       'CLEANING', 'DAIRY', 'DELI', 'EGGS', 'FROZEN FOODS', 'GROCERY I',\n",
       "       'GROCERY II', 'HARDWARE', 'HOME AND KITCHEN I',\n",
       "       'HOME AND KITCHEN II', 'HOME APPLIANCES', 'HOME CARE',\n",
       "       'LADIESWEAR', 'LAWN AND GARDEN', 'LINGERIE', 'LIQUOR,WINE,BEER',\n",
       "       'MAGAZINES', 'MEATS', 'PERSONAL CARE', 'PET SUPPLIES',\n",
       "       'PLAYERS AND ELECTRONICS', 'POULTRY', 'PREPARED FOODS', 'PRODUCE',\n",
       "       'SCHOOL AND OFFICE SUPPLIES', 'SEAFOOD', 'AUTOMOTIVE', 'BABY CARE',\n",
       "       'BEAUTY', 'BEVERAGES', 'BOOKS', 'BREAD/BAKERY', 'CELEBRATION',\n",
       "       'CLEANING', 'DAIRY', 'DELI', 'EGGS', 'FROZEN FOODS', 'GROCERY I',\n",
       "       'GROCERY II', 'HARDWARE', 'HOME AND KITCHEN I',\n",
       "       'HOME AND KITCHEN II', 'HOME APPLIANCES', 'HOME CARE',\n",
       "       'LADIESWEAR', 'LAWN AND GARDEN', 'LINGERIE', 'LIQUOR,WINE,BEER',\n",
       "       'MAGAZINES', 'MEATS', 'PERSONAL CARE', 'PET SUPPLIES',\n",
       "       'PLAYERS AND ELECTRONICS', 'POULTRY', 'PREPARED FOODS', 'PRODUCE',\n",
       "       'SCHOOL AND OFFICE SUPPLIES', 'SEAFOOD', 'AUTOMOTIVE', 'BABY CARE',\n",
       "       'BEAUTY', 'BEVERAGES', 'BOOKS', 'BREAD/BAKERY', 'CELEBRATION',\n",
       "       'CLEANING', 'DAIRY', 'DELI', 'EGGS', 'FROZEN FOODS', 'GROCERY I',\n",
       "       'GROCERY II', 'HARDWARE', 'HOME AND KITCHEN I',\n",
       "       'HOME AND KITCHEN II', 'HOME APPLIANCES', 'HOME CARE',\n",
       "       'LADIESWEAR', 'LAWN AND GARDEN', 'LINGERIE', 'LIQUOR,WINE,BEER',\n",
       "       'MAGAZINES', 'MEATS', 'PERSONAL CARE', 'PET SUPPLIES',\n",
       "       'PLAYERS AND ELECTRONICS', 'POULTRY', 'PREPARED FOODS', 'PRODUCE',\n",
       "       'SCHOOL AND OFFICE SUPPLIES', 'SEAFOOD', 'AUTOMOTIVE', 'BABY CARE',\n",
       "       'BEAUTY', 'BEVERAGES', 'BOOKS', 'BREAD/BAKERY', 'CELEBRATION',\n",
       "       'CLEANING', 'DAIRY', 'DELI', 'EGGS', 'FROZEN FOODS', 'GROCERY I',\n",
       "       'GROCERY II', 'HARDWARE', 'HOME AND KITCHEN I',\n",
       "       'HOME AND KITCHEN II', 'HOME APPLIANCES', 'HOME CARE',\n",
       "       'LADIESWEAR'], dtype=object)"
      ]
     },
     "execution_count": 696,
     "metadata": {},
     "output_type": "execute_result"
    }
   ],
   "source": [
    "family_array"
   ]
  },
  {
   "cell_type": "code",
   "execution_count": 712,
   "id": "e6a0b6a5-f9dd-4a66-9a72-e9069201c2f5",
   "metadata": {},
   "outputs": [
    {
     "data": {
      "text/plain": [
       "array([1662.394,  447.064, 2423.944,  962.866, 1236.404,  298.441,\n",
       "       1077.44 , 3404.531,  962.96 ,  279.505, 1852.786, 1089.319,\n",
       "        726.516, 7860.031,  446.038, 1155.385,  120.202,  862.092,\n",
       "        473.952,  254.263, 1272.755, 2775.771, 2030.762, 1657.432,\n",
       "       2339.906,  722.333, 1567.843, 2458.456,  673.885, 8834.15 ])"
      ]
     },
     "execution_count": 712,
     "metadata": {},
     "output_type": "execute_result"
    }
   ],
   "source": [
    "sample = sales_array[family_array == 'PRODUCE']\n",
    "\n",
    "sample"
   ]
  },
  {
   "cell_type": "code",
   "execution_count": 714,
   "id": "4683fca1-c416-4255-8ad6-d426ca914dab",
   "metadata": {},
   "outputs": [
    {
     "data": {
      "text/plain": [
       "30"
      ]
     },
     "execution_count": 714,
     "metadata": {},
     "output_type": "execute_result"
    }
   ],
   "source": [
    "sample.size"
   ]
  },
  {
   "cell_type": "code",
   "execution_count": 726,
   "id": "d50cd8d1-0f53-4beb-821c-d6bf95424185",
   "metadata": {},
   "outputs": [
    {
     "data": {
      "text/plain": [
       "array([0.24742606, 0.09299006, 0.61176337, 0.06066207, 0.66103343,\n",
       "       0.75515778, 0.1108689 , 0.04305584, 0.41441747, 0.98862926,\n",
       "       0.96919869, 0.25697153, 0.55876211, 0.24234798, 0.32202029,\n",
       "       0.89135975, 0.94611366, 0.72253931, 0.92847437, 0.99608701,\n",
       "       0.2494223 , 0.06229007, 0.94479027, 0.65028587, 0.32167568,\n",
       "       0.08336384, 0.21924361, 0.08417791, 0.05213927, 0.20525022])"
      ]
     },
     "execution_count": 726,
     "metadata": {},
     "output_type": "execute_result"
    }
   ],
   "source": [
    "import numpy as np\n",
    "\n",
    "rng = np.random.default_rng(2022)\n",
    "random_array = rng.random(30)\n",
    "random_array"
   ]
  },
  {
   "cell_type": "code",
   "execution_count": 728,
   "id": "87309c14-120f-446e-a884-aae03642db23",
   "metadata": {},
   "outputs": [],
   "source": [
    "produce_sample = sample[random_array < 0.5]"
   ]
  },
  {
   "cell_type": "code",
   "execution_count": 730,
   "id": "9a85a4f3-72c3-4bee-bffe-5510bb81f9f9",
   "metadata": {},
   "outputs": [
    {
     "data": {
      "text/plain": [
       "array([1662.394,  447.064,  962.866, 1077.44 , 3404.531,  962.96 ,\n",
       "       1089.319, 7860.031,  446.038, 1272.755, 2775.771, 2339.906,\n",
       "        722.333, 1567.843, 2458.456,  673.885, 8834.15 ])"
      ]
     },
     "execution_count": 730,
     "metadata": {},
     "output_type": "execute_result"
    }
   ],
   "source": [
    "produce_sample"
   ]
  },
  {
   "cell_type": "code",
   "execution_count": 734,
   "id": "6251143a-69ec-438d-941e-3f5fe89acc2d",
   "metadata": {},
   "outputs": [
    {
     "data": {
      "text/plain": [
       "2268.102470588235"
      ]
     },
     "execution_count": 734,
     "metadata": {},
     "output_type": "execute_result"
    }
   ],
   "source": [
    "mean = produce_sample.mean()\n",
    "mean"
   ]
  },
  {
   "cell_type": "code",
   "execution_count": 738,
   "id": "f2bdd694-2b71-4b9b-b00d-6ef25ac2f891",
   "metadata": {},
   "outputs": [
    {
     "data": {
      "text/plain": [
       "1272.755"
      ]
     },
     "execution_count": 738,
     "metadata": {},
     "output_type": "execute_result"
    }
   ],
   "source": [
    "median = np.median(produce_sample)\n",
    "\n",
    "median"
   ]
  },
  {
   "cell_type": "code",
   "execution_count": 740,
   "id": "ed5fdc85-9d3d-40d2-b23b-1472bf81b0a2",
   "metadata": {},
   "outputs": [
    {
     "data": {
      "text/plain": [
       "array(['above_median', 'below_both', 'below_both', 'below_both',\n",
       "       'above_both', 'below_both', 'below_both', 'above_both',\n",
       "       'below_both', 'above_median', 'above_both', 'above_both',\n",
       "       'below_both', 'above_median', 'above_both', 'below_both',\n",
       "       'above_both'], dtype='<U12')"
      ]
     },
     "execution_count": 740,
     "metadata": {},
     "output_type": "execute_result"
    }
   ],
   "source": [
    "np.where(produce_sample < median, 'below_both', np.where(produce_sample > mean, 'above_both', 'above_median'))"
   ]
  },
  {
   "cell_type": "code",
   "execution_count": null,
   "id": "2d836326-185d-442c-97fb-16eda1c14c10",
   "metadata": {},
   "outputs": [],
   "source": []
  }
 ],
 "metadata": {
  "kernelspec": {
   "display_name": "Python [conda env:base] *",
   "language": "python",
   "name": "conda-base-py"
  },
  "language_info": {
   "codemirror_mode": {
    "name": "ipython",
    "version": 3
   },
   "file_extension": ".py",
   "mimetype": "text/x-python",
   "name": "python",
   "nbconvert_exporter": "python",
   "pygments_lexer": "ipython3",
   "version": "3.12.7"
  }
 },
 "nbformat": 4,
 "nbformat_minor": 5
}
